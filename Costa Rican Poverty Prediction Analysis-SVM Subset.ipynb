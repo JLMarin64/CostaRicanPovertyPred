{
 "cells": [
  {
   "cell_type": "markdown",
   "metadata": {},
   "source": [
    "\n",
    "\n"
   ]
  },
  {
   "cell_type": "markdown",
   "metadata": {},
   "source": [
    "<center> <h1> Costa Rican Poverty Predction </h1> </center>\n",
    "<center> <h2> by: Jason Lin, Jason Lingle, and Jonathan Marin </h2> </center>\n",
    "<center> <h2> 9/16/2018 </h2> </center>\n"
   ]
  },
  {
   "cell_type": "markdown",
   "metadata": {},
   "source": [
    "# Business Understanding\n",
    "\n",
    "The issue of poverty is an issue in even the wealthiest of countries such as the United States.  While countries have their own way of providing support to individuals in need, the issue of identifying people with the most needs is always an issue.  Many social programs have a hard time making sure the right people are given enough aid. It is especially difficult when a program focuses on the poorest segment of the population as they are unable to provide the income and expense records that are typically required for qualification.\n",
    "\n",
    "In Latin America, a common method of verifying income qualification when income data is unavailable or unreliable is the Proxy Means Test (PMT).  With PMT, agencies use a model that considers a family’s observable household attributes like the material of their walls and ceiling, or the assets found in the home to classify them and predict their level of need.  While this test is better at evaluating income needs over other methods, the accuracy of predicting income qualification remains a problem as the region’s population grows and poverty declines.\n",
    "\n",
    "With this backdrop, our team has selected a data set called the “Costa Rican Household Poverty Level Prediction” from Kaggle.  The data set has been provided by the Inter-American Development Bank (IDB), which is the largest source of development financing for Latin American and Caribbean countries.  The goal of the IDB in providing this data set is to get support in improving income qualification for some of the world's poorest families for social welfare assistance in Latin America. (https://www.kaggle.com/c/costa-rican-household-poverty-prediction).  It is also their belief that new methods, beyond traditional econometrics, might be identified that could improve PMT performance.\n",
    "The dataset is a file with household characteristics from a sample of Costa Rican households from an unknown year. The dataset has observations for each member of the household, but the classification is done at the household level. The target is an ordinal variable indicating groups of income levels:\n",
    "\n",
    "•\t1 = extreme poverty\n",
    "•\t2 = moderate poverty\n",
    "•\t3 = vulnerable households\n",
    "•\t4 = non-vulnerable households\n",
    "\n",
    "The goal is to use the household characteristics provided and possibly create new features to predict the income levels using classification. Since the test set does not have the target variable, we will test the accuracy by submitting our predicted results to Kaggle.\n",
    "\n",
    "\n"
   ]
  },
  {
   "cell_type": "code",
   "execution_count": 2,
   "metadata": {},
   "outputs": [],
   "source": [
    "import pandas as pd \n",
    "import numpy as np\n",
    "from pandasql import sqldf\n",
    "import matplotlib.pyplot as plt\n",
    "import seaborn as sns\n",
    "\n",
    "sns.set()\n",
    "\n",
    "\n",
    "train = pd.DataFrame(pd.read_csv(\"train.csv\"))\n",
    "test = pd.DataFrame(pd.read_csv(\"test.csv\"))\n",
    "\n",
    "\n",
    "\n"
   ]
  },
  {
   "cell_type": "markdown",
   "metadata": {},
   "source": [
    "# Data Meaning Type\n",
    "\n",
    "\n",
    "Variable Name | Definition | Variable Type\n",
    "--------------|------------|------------------|\n",
    "v2a1 |  Monthly rent payment | float\n",
    "hacdor |  =1 Overcrowding by bedrooms | bool\n",
    "rooms |   number of all rooms in the house | int\n",
    "hacapo |  =1 Overcrowding by rooms | bool\n",
    "v14a |  =1 has bathroom in the household | bool\n",
    "refrig |  =1 if the household has refrigerator | bool\n",
    "v18q |  owns a tablet | bool\n",
    "v18q1 |  number of tablets household owns | int\n",
    "r4h1 |  Males younger than 12 years of age | int\n",
    "r4h2 |  Males 12 years of age and older | int\n",
    "r4h3 |  Total males in the household | int\n",
    "r4m1 |  Females younger than 12 years of age | int\n",
    "r4m2 |  Females 12 years of age and older | int\n",
    "r4m3 |  Total females in the household | int\n",
    "r4t1 |  persons younger than 12 years of age | int\n",
    "r4t2 |  persons 12 years of age and older | int\n",
    "r4t3 |  Total persons in the household | int\n",
    "tamhog |  size of the household | int\n",
    "tamviv |  number of persons living in the household | int\n",
    "escolari |  years of schooling | int\n",
    "rez_esc |  Years behind in school | int\n",
    "hhsize |  household size | int\n",
    "paredblolad |  =1 if predominant material on the outside wall is block or brick | bool\n",
    "paredzocalo |  \"=1 if predominant material on the outside wall is socket (wood   zinc or absbesto\" | bool\n",
    "paredpreb |  =1 if predominant material on the outside wall is prefabricated or cement | bool\n",
    "pareddes |  =1 if predominant material on the outside wall is waste material | bool\n",
    "paredmad |  =1 if predominant material on the outside wall is wood | bool\n",
    "paredzinc |  =1 if predominant material on the outside wall is zink | bool\n",
    "paredfibras |  =1 if predominant material on the outside wall is natural fibers | bool\n",
    "paredother |  =1 if predominant material on the outside wall is other | bool\n",
    "pisomoscer |  \"=1 if predominant material on the floor is mosaic, ceramic, terrzo | bool\n",
    "pisocemento |  =1 if predominant material on the floor is cement | bool\n",
    "pisoother |  =1 if predominant material on the floor is other | bool\n",
    "pisonatur |  =1 if predominant material on the floor is  natural material | bool\n",
    "pisonotiene |  =1 if no floor at the household | bool\n",
    "pisomadera |  =1 if predominant material on the floor is wood | bool\n",
    "techozinc |  =1 if predominant material on the roof is metal foil or zink | bool\n",
    "techoentrepiso |  \"=1 if predominant material on the roof is fiber cement   mezzanine | bool\n",
    "techocane |  =1 if predominant material on the roof is natural fibers | bool\n",
    "techootro |  =1 if predominant material on the roof is other | bool\n",
    "cielorazo |  =1 if the house has ceiling | bool\n",
    "abastaguadentro |  =1 if water provision inside the dwelling | bool\n",
    "abastaguafuera |  =1 if water provision outside the dwelling | bool\n",
    "abastaguano |  =1 if no water provision | bool\n",
    "public |  \"=1 electricity from CNFL   ICE  ESPH/JASEC | bool\n",
    "planpri |  =1 electricity from private plant | bool\n",
    "noelec |  =1 no electricity in the dwelling | bool\n",
    "coopele |  =1 electricity from cooperative | bool\n",
    "sanitario1 |  =1 no toilet in the dwelling | bool\n",
    "sanitario2 |  =1 toilet connected to sewer or cesspool | bool\n",
    "sanitario3 |  =1 toilet connected to  septic tank | bool\n",
    "sanitario5 |  =1 toilet connected to black hole or letrine | bool\n",
    "sanitario6 |  =1 toilet connected to other system | bool\n",
    "energcocinar1 |  =1 no main source of energy used for cooking (no kitchen) | bool\n",
    "energcocinar2 |  =1 main source of energy used for cooking electricity | bool\n",
    "energcocinar3 |  =1 main source of energy used for cooking gas | bool\n",
    "energcocinar4 |  =1 main source of energy used for cooking wood charcoal | bool\n",
    "elimbasu1 |  =1 if rubbish disposal mainly by tanker truck | bool\n",
    "elimbasu2 |  =1 if rubbish disposal mainly by botan hollow or buried | bool\n",
    "elimbasu3 |  =1 if rubbish disposal mainly by burning | bool\n",
    "elimbasu4 |  =1 if rubbish disposal mainly by throwing in an unoccupied space | bool\n",
    "elimbasu5 |  \"=1 if rubbish disposal mainly by throwing in river | bool\n",
    "elimbasu6 |  =1 if rubbish disposal mainly other | bool\n",
    "epared1 |  =1 if walls are bad | bool\n",
    "epared2 |  =1 if walls are regular | bool\n",
    "epared3 |  =1 if walls are good | bool\n",
    "etecho1 |  =1 if roof are bad | bool\n",
    "etecho2 |  =1 if roof are regular | bool\n",
    "etecho3 |  =1 if roof are good | bool\n",
    "eviv1 |  =1 if floor are bad | bool\n",
    "eviv2 |  =1 if floor are regular | bool\n",
    "eviv3 |  =1 if floor are good | bool\n",
    "dis |  =1 if disable person | bool\n",
    "male |  =1 if male | bool\n",
    "female |  =1 if female | bool\n",
    "estadocivil1 |  =1 if less than 10 years old | bool\n",
    "estadocivil2 |  =1 if free or coupled uunion | bool\n",
    "estadocivil3 |  =1 if married | bool\n",
    "estadocivil4 |  =1 if divorced | bool\n",
    "estadocivil5 |  =1 if separated | bool\n",
    "estadocivil6 |  =1 if widow/er | bool\n",
    "estadocivil7 |  =1 if single | bool\n",
    "parentesco1 |  =1 if household head | bool\n",
    "parentesco2 |  =1 if spouse/partner | bool\n",
    "parentesco3 |  =1 if son/doughter | bool\n",
    "parentesco4 |  =1 if stepson/doughter | bool\n",
    "parentesco5 |  =1 if son/doughter in law | bool\n",
    "parentesco6 |  =1 if grandson/doughter | bool\n",
    "parentesco7 |  =1 if mother/father | bool\n",
    "parentesco8 |  =1 if father/mother in law | bool\n",
    "parentesco9 |  =1 if brother/sister | bool\n",
    "parentesco10 |  =1 if brother/sister in law | bool\n",
    "parentesco11 |  =1 if other family member | bool\n",
    "parentesco12 |  =1 if other non family member | bool\n",
    "idhogar |  Household level identifier | string\n",
    "hogar_nin |  Number of children 0 to 19 in household | int\n",
    "hogar_adul |  Number of adults in household | int\n",
    "hogar_mayor |  # of individuals 65+ in the household | int\n",
    "hogar_total |  # of total individuals in the household | int\n",
    "dependency |  Dependency rate,  calculated = (number of members of the household younger than 19 or older than 64)/(number of member of household between 19 and 64) | numeric\n",
    "edjefe |  years of education of male head of household,  based on the interaction of escolari (years of education)  head of household and gender,  yes=1 and no=0 | bool\n",
    "edjefa |  years of education of female head of household , based on the interaction of escolari (years of education) , head of household and gender,  yes=1 and no=0 | bool\n",
    "meaneduc | average years of education for adults (18+) | int\n",
    "instlevel1 |  =1 no level of education | bool\n",
    "instlevel2 |  =1 incomplete primary | bool\n",
    "instlevel3 |  =1 complete primary | bool\n",
    "instlevel4 |  =1 incomplete academic secondary level | bool\n",
    "instlevel5 |  =1 complete academic secondary level | bool\n",
    "instlevel6 |  =1 incomplete technical secondary level | bool\n",
    "instlevel7 |  =1 complete technical secondary level | bool\n",
    "instlevel8 |  =1 undergraduate and higher education | bool\n",
    "instlevel9 |  =1 postgraduate higher education | bool\n",
    "bedrooms |  number of bedrooms | int\n",
    "overcrowding |  # persons per room | int\n",
    "tipovivi1 |  =1 own and fully paid house | bool\n",
    "tipovivi2 |  \"=1 own paying in installments | bool\n",
    "tipovivi3 |  =1 rented | bool\n",
    "tipovivi4 |  =1 precarious | bool\n",
    "tipovivi5 |  \"=1 other(assigned   borrowed)\" | bool\n",
    "computer |  =1 if the household has notebook or desktop computer | bool\n",
    "television |  =1 if the household has TV | bool\n",
    "mobilephone |  =1 if mobile phone | bool\n",
    "qmobilephone |  # of mobile phones | int\n",
    "lugar1 |  =1 region Central | bool\n",
    "lugar2 |  =1 region Chorotega | bool\n",
    "lugar3 |  =1 region PacÃƒÂ­fico central | bool\n",
    "lugar4 |  =1 region Brunca | bool\n",
    "lugar5 |  =1 region Huetar AtlÃƒÂ¡ntica | bool\n",
    "lugar6 |  =1 region Huetar Norte | bool\n",
    "area1 |  =1 zona urbana | bool\n",
    "area2 |  =2 zona rural | bool\n",
    "age |  Age in years | int\n",
    "SQBescolari |  escolari squared | numeric\n",
    "SQBage |  age squared | numeric\n",
    "SQBhogar_total |  hogar_total squared | int\n",
    "SQBedjefe |  edjefe squared | int\n",
    "SQBhogar_nin |  hogar_nin squared | int\n",
    "SQBovercrowding |  overcrowding squared | float\n",
    "SQBdependency |  dependency squared | float\n",
    "SQBmeaned |  square of the mean years of education of adults (>=18) in the household | bool\n",
    "agesq |  Age squared | numeric\n",
    "\n",
    "\n",
    "\n"
   ]
  },
  {
   "cell_type": "markdown",
   "metadata": {},
   "source": [
    "# Data Quality\n",
    "\n",
    "\n",
    "\n",
    "## Missing Data (NaNs)\n",
    "\n",
    "### v2a1\n",
    "This variable represents the Monthly Rent Payment.  This may be null because there is no monthly rent payment as the subjet may own the house in full (variable:tipovivi1).  When the home is owened in full, we populated the monthly payment as $0 instead of null.  However, there are blanks still in train and test after doing so.  It may be possible to build a prelimanary model to impute this with all the household and location characteristics that we already have, however, we have imputed the rest with the mean for the remaining nulls. \n",
    "\n",
    "\n",
    "### v18q1        \n",
    "This variable represents the number of people who own a tablet.  This is a member level variable and the imputation of this will be handled by the aggregation to household level.  We believe that the nulls here represent zero. \n",
    "\n",
    "### rez_esc\n",
    "This variable represents the number of years a member is behind in school.  This is a member level variable and the imputation of this will be hangled by the aggregation to household level.  We beleive that the nulls here represent zero. \n",
    "\n",
    "### meaneduc       \n",
    "\n",
    "This variable represents the average years of education adults (18+) have.  This is a household level variable.  We have imputed this by taking the number of years of eduction from the head of household males/females.  \n",
    "\n",
    "### SQBmeaned       \n",
    "\n",
    "This variable is the square of meaneduc which was null for the same columns that the meaneduc was null for.  This was calculated by squaring the imputed meaneduc. \n",
    "\n",
    "\n",
    "## Outliers\n",
    "\n",
    "The plan is to run a random forest model which is not sensitive to outliers.  We will skip the outlier analysis for now. In feature modeling, it is easier to point out the outliers because of cross correlation and other factors. \n",
    "\n",
    "## Errors\n",
    "\n",
    "The kaggle competition rules mentioned that the scoring only occurs on head of household, but member level data was provided.  We have found member level data tied to households that had no head of household.  These were excluded from the study since they will not be scored in the test set per kaggle rules. \n",
    "\n",
    "Also, meaneduc and SQBmeaned were not populated even though we had information on head of household education. \n",
    "\n",
    "\n",
    "## Denormalization \n",
    "\n",
    "Some variables of the dataset is at the member level and we are provided a key (variable: idhogar) that ties the member to the household.  The target should be the same between all members of the household.  If it is different, it is an error and we should use the head of household (variable: parentesco1) target. Note that the scoring on the test set within the kaggle competition is only done for heads of household.  The member level was provided for additional feature engineering. \n",
    "\n",
    "To overcome this, the plan would be to denormalize the data by head of household for both train and test for heads of household. Then, we will need to backfill the expected test set submission as it is expected to be submitted at the member level even though it is only scoring at the household level.  We believe that we can leave the members that are not heads of household blank in the submission according to what was stated in the kaggle submission selection.  \n",
    "\n",
    "\n",
    "Data Attributes spreadsheet was created to show attributes and member level or household level.  Variables were reviewed to assign each category appropriately.  For some fields, it was a simple sum, but for others, we created bins for the column and then summed.  \n",
    "\n",
    "\n",
    "\n"
   ]
  },
  {
   "cell_type": "code",
   "execution_count": 3,
   "metadata": {},
   "outputs": [
    {
     "data": {
      "text/plain": [
       "v2a1       6860\n",
       "v18q1      7342\n",
       "rez_esc    7928\n",
       "dtype: int64"
      ]
     },
     "execution_count": 3,
     "metadata": {},
     "output_type": "execute_result"
    }
   ],
   "source": [
    "\n",
    "#Find the Nulls\n",
    "null_columns=train.columns[train.isnull().any()]\n",
    "\n",
    "train[null_columns].isnull().sum()"
   ]
  },
  {
   "cell_type": "code",
   "execution_count": 4,
   "metadata": {},
   "outputs": [
    {
     "data": {
      "text/plain": [
       "v2a1        949\n",
       "rez_esc    7928\n",
       "dtype: int64"
      ]
     },
     "execution_count": 4,
     "metadata": {},
     "output_type": "execute_result"
    }
   ],
   "source": [
    "# Update and Check to see we updated\n",
    "\n",
    "# There are 2156 null values for v2a1 (monthly mortgage payment).  After accounting for those that don't \n",
    "#rent, we are left with 300 values that have nulls.  We can try to create a model \n",
    "\n",
    "train.loc[(train.tipovivi1 == 1),'v2a1'] = 0\n",
    "test.loc[(test.tipovivi1 == 1),'v2a1'] = 0\n",
    "\n",
    "\n",
    "train.loc[np.isnan(train[\"v18q1\"]), 'v18q1'] = 0\n",
    "test.loc[np.isnan(test[\"v18q1\"]), 'v18q1'] = 0\n",
    "\n",
    "train.loc[np.isnan(train[\"v18q1\"]), 'v18q1'] = 0\n",
    "test.loc[np.isnan(test[\"v18q1\"]), 'v18q1'] = 0\n",
    "\n",
    "\n",
    "train.loc[(train.dependency == \"yes\"),'dependency'] = 1\n",
    "train.loc[(train.dependency == \"no\"),'dependency'] = 0\n",
    "\n",
    "test.loc[(test.dependency == \"yes\"),'dependency'] = 1\n",
    "test.loc[(test.dependency == \"no\"),'dependency'] = 0\n",
    "\n",
    "\n",
    "train.loc[(train.edjefe == \"yes\"),'edjefe'] = 1\n",
    "train.loc[(train.edjefe == \"no\"),'edjefe'] = 0\n",
    "\n",
    "test.loc[(test.edjefe == \"yes\"),'edjefe'] = 1\n",
    "test.loc[(test.edjefe == \"no\"),'edjefe'] = 0\n",
    "\n",
    "\n",
    "\n",
    "train.loc[(train.edjefa == \"yes\"),'edjefa'] = 1\n",
    "train.loc[(train.edjefa == \"no\"),'edjefa'] = 0\n",
    "\n",
    "test.loc[(test.edjefa == \"yes\"),'edjefa'] = 1\n",
    "test.loc[(test.edjefa == \"no\"),'edjefa'] = 0\n",
    "\n",
    "\n",
    "null_columns=train.columns[train.isnull().any()]\n",
    "\n",
    "train[null_columns].isnull().sum()\n"
   ]
  },
  {
   "cell_type": "code",
   "execution_count": 5,
   "metadata": {},
   "outputs": [
    {
     "data": {
      "text/plain": [
       "Series([], dtype: float64)"
      ]
     },
     "execution_count": 5,
     "metadata": {},
     "output_type": "execute_result"
    }
   ],
   "source": [
    "#Denormalization\n",
    "\n",
    "#Create subset dataframes for head of househoold for tain and test\n",
    "train_head = train[['idhogar', 'parentesco1', 'Id', 'hhsize', 'v2a1', 'hacdor', 'rooms', 'hacapo', 'v14a', 'refrig', 'v18q1', 'r4h1', 'r4h2', 'r4h3', 'r4m1', 'r4m2', 'r4m3', 'r4t1', 'r4t2', 'r4t3', 'tamhog', 'tamviv', 'paredblolad', 'paredzocalo', 'paredpreb', 'pareddes', 'paredmad', 'paredzinc', 'paredfibras', 'paredother', 'pisomoscer', 'pisocemento', 'pisoother', 'pisonatur', 'pisonotiene', 'pisomadera', 'techozinc', 'techoentrepiso', 'techocane', 'techootro', 'cielorazo', 'abastaguadentro', 'abastaguafuera', 'abastaguano', 'public', 'planpri', 'noelec', 'coopele', 'sanitario1', 'sanitario2', 'sanitario3', 'sanitario5', 'sanitario6', 'energcocinar1', 'energcocinar2', 'energcocinar3', 'energcocinar4', 'elimbasu1', 'elimbasu2', 'elimbasu3', 'elimbasu4', 'elimbasu5', 'elimbasu6', 'epared1', 'epared2', 'epared3', 'etecho1', 'etecho2', 'etecho3', 'eviv1', 'eviv2', 'eviv3', 'hogar_nin', 'hogar_adul', 'hogar_mayor', 'hogar_total', 'dependency', 'edjefe', 'edjefa', 'meaneduc', 'bedrooms', 'overcrowding', 'tipovivi1', 'tipovivi2', 'tipovivi3', 'tipovivi4', 'tipovivi5', 'computer', 'television', 'qmobilephone', 'lugar1', 'lugar2', 'lugar3', 'lugar4', 'lugar5', 'lugar6', 'area1', 'area2', 'SQBescolari', 'SQBhogar_total', 'SQBedjefe', 'SQBhogar_nin', 'SQBovercrowding', 'SQBdependency', 'SQBmeaned','Target']]\n",
    "\n",
    "train_head = train_head[train_head['parentesco1'] == 1]\n",
    "\n",
    "test_head = test[['idhogar', 'parentesco1', 'Id', 'hhsize', 'v2a1', 'hacdor', 'rooms', 'hacapo', 'v14a', 'refrig', 'v18q1', 'r4h1', 'r4h2', 'r4h3', 'r4m1', 'r4m2', 'r4m3', 'r4t1', 'r4t2', 'r4t3', 'tamhog', 'tamviv', 'paredblolad', 'paredzocalo', 'paredpreb', 'pareddes', 'paredmad', 'paredzinc', 'paredfibras', 'paredother', 'pisomoscer', 'pisocemento', 'pisoother', 'pisonatur', 'pisonotiene', 'pisomadera', 'techozinc', 'techoentrepiso', 'techocane', 'techootro', 'cielorazo', 'abastaguadentro', 'abastaguafuera', 'abastaguano', 'public', 'planpri', 'noelec', 'coopele', 'sanitario1', 'sanitario2', 'sanitario3', 'sanitario5', 'sanitario6', 'energcocinar1', 'energcocinar2', 'energcocinar3', 'energcocinar4', 'elimbasu1', 'elimbasu2', 'elimbasu3', 'elimbasu4', 'elimbasu5', 'elimbasu6', 'epared1', 'epared2', 'epared3', 'etecho1', 'etecho2', 'etecho3', 'eviv1', 'eviv2', 'eviv3', 'hogar_nin', 'hogar_adul', 'hogar_mayor', 'hogar_total', 'dependency', 'edjefe', 'edjefa', 'meaneduc', 'bedrooms', 'overcrowding', 'tipovivi1', 'tipovivi2', 'tipovivi3', 'tipovivi4', 'tipovivi5', 'computer', 'television', 'qmobilephone', 'lugar1', 'lugar2', 'lugar3', 'lugar4', 'lugar5', 'lugar6', 'area1', 'area2', 'SQBescolari', 'SQBhogar_total', 'SQBedjefe', 'SQBhogar_nin', 'SQBovercrowding', 'SQBdependency', 'SQBmeaned']]\n",
    "\n",
    "test_head = test_head[test_head['parentesco1'] == 1]\n",
    "\n",
    "#Start the member level denormalization for train and test\n",
    "train_member_agg = pd.DataFrame(sqldf(\"select  \"\n",
    "\"idhogar, \"\n",
    "\"sum(cast(v18q as int)) 'JM_Sum_of_Tablets', \"\n",
    "\"sum(cast(escolari as int)) 'Total Sum Years of Schooling', \"\n",
    "\"sum(case when escolari < 5 then 1 else 0 end) as 'JM_People_Educ_LT5', \"\n",
    "\"sum(case when escolari < 10 then 1 else 0 end) as 'JM_People_Educ_LT10', \"\n",
    "\"sum(case when escolari < 15 then 1 else 0 end) as 'JM_People_Educ_LT15', \"\n",
    "\"sum(case when escolari < 20 then 1 else 0 end) as 'JM_People_Educ_LT20', \"\n",
    "\"sum(case when escolari < 25 then 1 else 0 end) as 'JM_People_Educ_LT25', \"\n",
    "\"sum(case when rez_esc = 1 then 1 else 0 end) as 'JM_1YrBehindSchool', \"\n",
    "\"sum(case when rez_esc = 2 then 1 else 0 end) as 'JM_2YrBehindSchool', \"\n",
    "\"sum(case when rez_esc = 3 then 1 else 0 end) as 'JM_3YrBehindSchool', \"\n",
    "\"sum(case when rez_esc = 4 then 1 else 0 end) as 'JM_4YrBehindSchool', \"\n",
    "\"sum(case when rez_esc = 5 then 1 else 0 end) as 'JM_5YrBehindSchool', \"\n",
    "\"sum(cast(dis as int)) as 'JM_Sum_of_Disabled', \"\n",
    "\"sum(cast(male as int)) as 'JM_Sum_Of_Males', \"\n",
    "\"sum(cast(female as int)) as 'JM_Sum_Of_Females', \"\n",
    "\"sum(cast(estadocivil1 as int)) as  'JM_estadocivil1', \"\n",
    "\"sum(cast(estadocivil2 as int)) as  'JM_estadocivil2', \"\n",
    "\"sum(cast(estadocivil3 as int)) as  'JM_estadocivil3', \"\n",
    "\"sum(cast(estadocivil4 as int)) as  'JM_estadocivil4', \"\n",
    "\"sum(cast(estadocivil5 as int)) as  'JM_estadocivil5', \"\n",
    "\"sum(cast(estadocivil6 as int)) as  'JM_estadocivil6', \"\n",
    "\"sum(cast(estadocivil7 as int)) as  'JM_estadocivil7', \"\n",
    "\"sum(cast(parentesco1 as int)) as  'JM_parentesco1', \"\n",
    "\"sum(cast(parentesco2 as int)) as  'JM_parentesco2', \"\n",
    "\"sum(cast(parentesco3 as int)) as  'JM_parentesco3', \"\n",
    "\"sum(cast(parentesco4 as int)) as  'JM_parentesco4', \"\n",
    "\"sum(cast(parentesco5 as int)) as  'JM_parentesco5', \"\n",
    "\"sum(cast(parentesco6 as int)) as  'JM_parentesco6', \"\n",
    "\"sum(cast(parentesco7 as int)) as  'JM_parentesco7', \"\n",
    "\"sum(cast(parentesco8 as int)) as  'JM_parentesco8', \"\n",
    "\"sum(cast(parentesco9 as int)) as  'JM_parentesco9', \"\n",
    "\"sum(cast(parentesco10 as int)) as  'JM_parentesco10', \"\n",
    "\"sum(cast(parentesco11 as int)) as  'JM_parentesco11', \"\n",
    "\"sum(cast(parentesco12 as int)) as  'JM_parentesco12', \"\n",
    "\"sum(cast(instlevel1 as int)) as  'JM_instlevel1', \"\n",
    "\"sum(cast(instlevel2 as int)) as  'JM_instlevel2', \"\n",
    "\"sum(cast(instlevel3 as int)) as  'JM_instlevel3', \"\n",
    "\"sum(cast(instlevel4 as int)) as  'JM_instlevel4', \"\n",
    "\"sum(cast(instlevel5 as int)) as  'JM_instlevel5', \"\n",
    "\"sum(cast(instlevel6 as int)) as  'JM_instlevel6', \"\n",
    "\"sum(cast(instlevel7 as int)) as  'JM_instlevel7', \"\n",
    "\"sum(cast(instlevel8 as int)) as  'JM_instlevel8', \"\n",
    "\"sum(cast(instlevel9 as int)) as  'JM_instlevel9', \"\n",
    "\"sum(cast(mobilephone as int)) as  'JM_mobilephone'\" \n",
    "\"from train \"\n",
    "\"group by idhogar \"\n",
    "))\n",
    "\n",
    "\n",
    "\n",
    "test_member_agg = pd.DataFrame(sqldf(\"select  \"\n",
    "\"idhogar, \"\n",
    "\"sum(cast(v18q as int)) 'JM_Sum_of_Tablets', \"\n",
    "\"sum(cast(escolari as int)) 'Total Sum Years of Schooling', \"\n",
    "\"sum(case when escolari < 5 then 1 else 0 end) as 'JM_People_Educ_LT5', \"\n",
    "\"sum(case when escolari < 10 then 1 else 0 end) as 'JM_People_Educ_LT10', \"\n",
    "\"sum(case when escolari < 15 then 1 else 0 end) as 'JM_People_Educ_LT15', \"\n",
    "\"sum(case when escolari < 20 then 1 else 0 end) as 'JM_People_Educ_LT20', \"\n",
    "\"sum(case when escolari < 25 then 1 else 0 end) as 'JM_People_Educ_LT25', \"\n",
    "\"sum(case when rez_esc = 1 then 1 else 0 end) as 'JM_1YrBehindSchool', \"\n",
    "\"sum(case when rez_esc = 2 then 1 else 0 end) as 'JM_2YrBehindSchool', \"\n",
    "\"sum(case when rez_esc = 3 then 1 else 0 end) as 'JM_3YrBehindSchool', \"\n",
    "\"sum(case when rez_esc = 4 then 1 else 0 end) as 'JM_4YrBehindSchool', \"\n",
    "\"sum(case when rez_esc = 5 then 1 else 0 end) as 'JM_5YrBehindSchool', \"\n",
    "\"sum(cast(dis as int)) as 'JM_Sum_of_Disabled', \"\n",
    "\"sum(cast(male as int)) as 'JM_Sum_Of_Males', \"\n",
    "\"sum(cast(female as int)) as 'JM_Sum_Of_Females', \"\n",
    "\"sum(cast(estadocivil1 as int)) as  'JM_estadocivil1', \"\n",
    "\"sum(cast(estadocivil2 as int)) as  'JM_estadocivil2', \"\n",
    "\"sum(cast(estadocivil3 as int)) as  'JM_estadocivil3', \"\n",
    "\"sum(cast(estadocivil4 as int)) as  'JM_estadocivil4', \"\n",
    "\"sum(cast(estadocivil5 as int)) as  'JM_estadocivil5', \"\n",
    "\"sum(cast(estadocivil6 as int)) as  'JM_estadocivil6', \"\n",
    "\"sum(cast(estadocivil7 as int)) as  'JM_estadocivil7', \"\n",
    "\"sum(cast(parentesco1 as int)) as  'JM_parentesco1', \"\n",
    "\"sum(cast(parentesco2 as int)) as  'JM_parentesco2', \"\n",
    "\"sum(cast(parentesco3 as int)) as  'JM_parentesco3', \"\n",
    "\"sum(cast(parentesco4 as int)) as  'JM_parentesco4', \"\n",
    "\"sum(cast(parentesco5 as int)) as  'JM_parentesco5', \"\n",
    "\"sum(cast(parentesco6 as int)) as  'JM_parentesco6', \"\n",
    "\"sum(cast(parentesco7 as int)) as  'JM_parentesco7', \"\n",
    "\"sum(cast(parentesco8 as int)) as  'JM_parentesco8', \"\n",
    "\"sum(cast(parentesco9 as int)) as  'JM_parentesco9', \"\n",
    "\"sum(cast(parentesco10 as int)) as  'JM_parentesco10', \"\n",
    "\"sum(cast(parentesco11 as int)) as  'JM_parentesco11', \"\n",
    "\"sum(cast(parentesco12 as int)) as  'JM_parentesco12', \"\n",
    "\"sum(cast(instlevel1 as int)) as  'JM_instlevel1', \"\n",
    "\"sum(cast(instlevel2 as int)) as  'JM_instlevel2', \"\n",
    "\"sum(cast(instlevel3 as int)) as  'JM_instlevel3', \"\n",
    "\"sum(cast(instlevel4 as int)) as  'JM_instlevel4', \"\n",
    "\"sum(cast(instlevel5 as int)) as  'JM_instlevel5', \"\n",
    "\"sum(cast(instlevel6 as int)) as  'JM_instlevel6', \"\n",
    "\"sum(cast(instlevel7 as int)) as  'JM_instlevel7', \"\n",
    "\"sum(cast(instlevel8 as int)) as  'JM_instlevel8', \"\n",
    "\"sum(cast(instlevel9 as int)) as  'JM_instlevel9', \"\n",
    "\"sum(cast(mobilephone as int)) as  'JM_mobilephone'\" \n",
    "\"from test \"\n",
    "\"group by idhogar \"\n",
    "))\n",
    "\n",
    "\n",
    "\n",
    "#Join the household and member aggregation together\n",
    "train_model_set = pd.DataFrame(pd.merge(train_head, train_member_agg, on = 'idhogar', how = 'left'))\n",
    "test_model_set = pd.DataFrame(pd.merge(test_head, test_member_agg, on = 'idhogar', how = 'left'))\n",
    "\n",
    "\n",
    "\n",
    "\n",
    "# For the rest of the v2a1 that are null, we will use the mean\n",
    "\n",
    "train_model_set['v2a1'].fillna((train_model_set['v2a1'].mean()), inplace=True)\n",
    "\n",
    "test_model_set['v2a1'].fillna((train_model_set['v2a1'].mean()), inplace=True)\n",
    "\n",
    "#Export final model csvs for review\n",
    "train_model_set.to_csv(\"train_model_set.csv\")\n",
    "test_model_set.to_csv(\"test_model_set.csv\")\n",
    "\n",
    "#Make sure all Nulls are accounted for\n",
    "null_columns=train_model_set.columns[train_model_set.isnull().any()]\n",
    "\n",
    "train_model_set[null_columns].isnull().sum()\n",
    "\n",
    "\n",
    "\n",
    "\n"
   ]
  },
  {
   "cell_type": "markdown",
   "metadata": {},
   "source": [
    "# Simple Statistics \n",
    "\n",
    "\n",
    "\n",
    "Requirement: \n",
    "Visualize appropriate statistics (e.g. range, mode, mean, median, variance, counts) for a subset of attributes. Describe anything meaningful you found from this or if you found something potentially niteresting.  Note: You can also use data from other sources for comparison. Explain why the statistics run are meaningful. "
   ]
  },
  {
   "cell_type": "code",
   "execution_count": 6,
   "metadata": {},
   "outputs": [
    {
     "data": {
      "text/html": [
       "<div>\n",
       "<style scoped>\n",
       "    .dataframe tbody tr th:only-of-type {\n",
       "        vertical-align: middle;\n",
       "    }\n",
       "\n",
       "    .dataframe tbody tr th {\n",
       "        vertical-align: top;\n",
       "    }\n",
       "\n",
       "    .dataframe thead th {\n",
       "        text-align: right;\n",
       "    }\n",
       "</style>\n",
       "<table border=\"1\" class=\"dataframe\">\n",
       "  <thead>\n",
       "    <tr style=\"text-align: right;\">\n",
       "      <th></th>\n",
       "      <th>parentesco1</th>\n",
       "      <th>hhsize</th>\n",
       "      <th>v2a1</th>\n",
       "      <th>hacdor</th>\n",
       "      <th>rooms</th>\n",
       "      <th>hacapo</th>\n",
       "      <th>v14a</th>\n",
       "      <th>refrig</th>\n",
       "      <th>v18q1</th>\n",
       "      <th>r4h1</th>\n",
       "      <th>...</th>\n",
       "      <th>JM_instlevel1</th>\n",
       "      <th>JM_instlevel2</th>\n",
       "      <th>JM_instlevel3</th>\n",
       "      <th>JM_instlevel4</th>\n",
       "      <th>JM_instlevel5</th>\n",
       "      <th>JM_instlevel6</th>\n",
       "      <th>JM_instlevel7</th>\n",
       "      <th>JM_instlevel8</th>\n",
       "      <th>JM_instlevel9</th>\n",
       "      <th>JM_mobilephone</th>\n",
       "    </tr>\n",
       "  </thead>\n",
       "  <tbody>\n",
       "    <tr>\n",
       "      <th>count</th>\n",
       "      <td>2973.00</td>\n",
       "      <td>2973.00</td>\n",
       "      <td>2973.00</td>\n",
       "      <td>2973.00</td>\n",
       "      <td>2973.00</td>\n",
       "      <td>2973.00</td>\n",
       "      <td>2973.00</td>\n",
       "      <td>2973.00</td>\n",
       "      <td>2973.00</td>\n",
       "      <td>2973.00</td>\n",
       "      <td>...</td>\n",
       "      <td>2973.00</td>\n",
       "      <td>2973.00</td>\n",
       "      <td>2973.00</td>\n",
       "      <td>2973.00</td>\n",
       "      <td>2973.00</td>\n",
       "      <td>2973.00</td>\n",
       "      <td>2973.00</td>\n",
       "      <td>2973.00</td>\n",
       "      <td>2973.00</td>\n",
       "      <td>2973.00</td>\n",
       "    </tr>\n",
       "    <tr>\n",
       "      <th>mean</th>\n",
       "      <td>1.00</td>\n",
       "      <td>3.21</td>\n",
       "      <td>51596.37</td>\n",
       "      <td>0.02</td>\n",
       "      <td>4.79</td>\n",
       "      <td>0.01</td>\n",
       "      <td>0.99</td>\n",
       "      <td>0.95</td>\n",
       "      <td>0.30</td>\n",
       "      <td>0.26</td>\n",
       "      <td>...</td>\n",
       "      <td>0.43</td>\n",
       "      <td>0.54</td>\n",
       "      <td>0.67</td>\n",
       "      <td>0.60</td>\n",
       "      <td>0.36</td>\n",
       "      <td>0.06</td>\n",
       "      <td>0.05</td>\n",
       "      <td>0.45</td>\n",
       "      <td>0.05</td>\n",
       "      <td>3.13</td>\n",
       "    </tr>\n",
       "    <tr>\n",
       "      <th>std</th>\n",
       "      <td>0.00</td>\n",
       "      <td>1.59</td>\n",
       "      <td>111678.84</td>\n",
       "      <td>0.14</td>\n",
       "      <td>1.45</td>\n",
       "      <td>0.11</td>\n",
       "      <td>0.08</td>\n",
       "      <td>0.21</td>\n",
       "      <td>0.66</td>\n",
       "      <td>0.56</td>\n",
       "      <td>...</td>\n",
       "      <td>0.72</td>\n",
       "      <td>0.78</td>\n",
       "      <td>0.84</td>\n",
       "      <td>0.83</td>\n",
       "      <td>0.63</td>\n",
       "      <td>0.26</td>\n",
       "      <td>0.24</td>\n",
       "      <td>0.75</td>\n",
       "      <td>0.24</td>\n",
       "      <td>1.67</td>\n",
       "    </tr>\n",
       "    <tr>\n",
       "      <th>min</th>\n",
       "      <td>1.00</td>\n",
       "      <td>1.00</td>\n",
       "      <td>0.00</td>\n",
       "      <td>0.00</td>\n",
       "      <td>1.00</td>\n",
       "      <td>0.00</td>\n",
       "      <td>0.00</td>\n",
       "      <td>0.00</td>\n",
       "      <td>0.00</td>\n",
       "      <td>0.00</td>\n",
       "      <td>...</td>\n",
       "      <td>0.00</td>\n",
       "      <td>0.00</td>\n",
       "      <td>0.00</td>\n",
       "      <td>0.00</td>\n",
       "      <td>0.00</td>\n",
       "      <td>0.00</td>\n",
       "      <td>0.00</td>\n",
       "      <td>0.00</td>\n",
       "      <td>0.00</td>\n",
       "      <td>0.00</td>\n",
       "    </tr>\n",
       "    <tr>\n",
       "      <th>25%</th>\n",
       "      <td>1.00</td>\n",
       "      <td>2.00</td>\n",
       "      <td>0.00</td>\n",
       "      <td>0.00</td>\n",
       "      <td>4.00</td>\n",
       "      <td>0.00</td>\n",
       "      <td>1.00</td>\n",
       "      <td>1.00</td>\n",
       "      <td>0.00</td>\n",
       "      <td>0.00</td>\n",
       "      <td>...</td>\n",
       "      <td>0.00</td>\n",
       "      <td>0.00</td>\n",
       "      <td>0.00</td>\n",
       "      <td>0.00</td>\n",
       "      <td>0.00</td>\n",
       "      <td>0.00</td>\n",
       "      <td>0.00</td>\n",
       "      <td>0.00</td>\n",
       "      <td>0.00</td>\n",
       "      <td>2.00</td>\n",
       "    </tr>\n",
       "    <tr>\n",
       "      <th>50%</th>\n",
       "      <td>1.00</td>\n",
       "      <td>3.00</td>\n",
       "      <td>0.00</td>\n",
       "      <td>0.00</td>\n",
       "      <td>5.00</td>\n",
       "      <td>0.00</td>\n",
       "      <td>1.00</td>\n",
       "      <td>1.00</td>\n",
       "      <td>0.00</td>\n",
       "      <td>0.00</td>\n",
       "      <td>...</td>\n",
       "      <td>0.00</td>\n",
       "      <td>0.00</td>\n",
       "      <td>0.00</td>\n",
       "      <td>0.00</td>\n",
       "      <td>0.00</td>\n",
       "      <td>0.00</td>\n",
       "      <td>0.00</td>\n",
       "      <td>0.00</td>\n",
       "      <td>0.00</td>\n",
       "      <td>3.00</td>\n",
       "    </tr>\n",
       "    <tr>\n",
       "      <th>75%</th>\n",
       "      <td>1.00</td>\n",
       "      <td>4.00</td>\n",
       "      <td>51596.37</td>\n",
       "      <td>0.00</td>\n",
       "      <td>6.00</td>\n",
       "      <td>0.00</td>\n",
       "      <td>1.00</td>\n",
       "      <td>1.00</td>\n",
       "      <td>0.00</td>\n",
       "      <td>0.00</td>\n",
       "      <td>...</td>\n",
       "      <td>1.00</td>\n",
       "      <td>1.00</td>\n",
       "      <td>1.00</td>\n",
       "      <td>1.00</td>\n",
       "      <td>1.00</td>\n",
       "      <td>0.00</td>\n",
       "      <td>0.00</td>\n",
       "      <td>1.00</td>\n",
       "      <td>0.00</td>\n",
       "      <td>4.00</td>\n",
       "    </tr>\n",
       "    <tr>\n",
       "      <th>max</th>\n",
       "      <td>1.00</td>\n",
       "      <td>13.00</td>\n",
       "      <td>2353477.00</td>\n",
       "      <td>1.00</td>\n",
       "      <td>11.00</td>\n",
       "      <td>1.00</td>\n",
       "      <td>1.00</td>\n",
       "      <td>1.00</td>\n",
       "      <td>6.00</td>\n",
       "      <td>5.00</td>\n",
       "      <td>...</td>\n",
       "      <td>5.00</td>\n",
       "      <td>5.00</td>\n",
       "      <td>7.00</td>\n",
       "      <td>5.00</td>\n",
       "      <td>4.00</td>\n",
       "      <td>3.00</td>\n",
       "      <td>3.00</td>\n",
       "      <td>5.00</td>\n",
       "      <td>2.00</td>\n",
       "      <td>13.00</td>\n",
       "    </tr>\n",
       "  </tbody>\n",
       "</table>\n",
       "<p>8 rows × 145 columns</p>\n",
       "</div>"
      ],
      "text/plain": [
       "       parentesco1  hhsize       v2a1  hacdor   rooms  hacapo    v14a  refrig  \\\n",
       "count      2973.00 2973.00    2973.00 2973.00 2973.00 2973.00 2973.00 2973.00   \n",
       "mean          1.00    3.21   51596.37    0.02    4.79    0.01    0.99    0.95   \n",
       "std           0.00    1.59  111678.84    0.14    1.45    0.11    0.08    0.21   \n",
       "min           1.00    1.00       0.00    0.00    1.00    0.00    0.00    0.00   \n",
       "25%           1.00    2.00       0.00    0.00    4.00    0.00    1.00    1.00   \n",
       "50%           1.00    3.00       0.00    0.00    5.00    0.00    1.00    1.00   \n",
       "75%           1.00    4.00   51596.37    0.00    6.00    0.00    1.00    1.00   \n",
       "max           1.00   13.00 2353477.00    1.00   11.00    1.00    1.00    1.00   \n",
       "\n",
       "        v18q1    r4h1       ...        JM_instlevel1  JM_instlevel2  \\\n",
       "count 2973.00 2973.00       ...              2973.00        2973.00   \n",
       "mean     0.30    0.26       ...                 0.43           0.54   \n",
       "std      0.66    0.56       ...                 0.72           0.78   \n",
       "min      0.00    0.00       ...                 0.00           0.00   \n",
       "25%      0.00    0.00       ...                 0.00           0.00   \n",
       "50%      0.00    0.00       ...                 0.00           0.00   \n",
       "75%      0.00    0.00       ...                 1.00           1.00   \n",
       "max      6.00    5.00       ...                 5.00           5.00   \n",
       "\n",
       "       JM_instlevel3  JM_instlevel4  JM_instlevel5  JM_instlevel6  \\\n",
       "count        2973.00        2973.00        2973.00        2973.00   \n",
       "mean            0.67           0.60           0.36           0.06   \n",
       "std             0.84           0.83           0.63           0.26   \n",
       "min             0.00           0.00           0.00           0.00   \n",
       "25%             0.00           0.00           0.00           0.00   \n",
       "50%             0.00           0.00           0.00           0.00   \n",
       "75%             1.00           1.00           1.00           0.00   \n",
       "max             7.00           5.00           4.00           3.00   \n",
       "\n",
       "       JM_instlevel7  JM_instlevel8  JM_instlevel9  JM_mobilephone  \n",
       "count        2973.00        2973.00        2973.00         2973.00  \n",
       "mean            0.05           0.45           0.05            3.13  \n",
       "std             0.24           0.75           0.24            1.67  \n",
       "min             0.00           0.00           0.00            0.00  \n",
       "25%             0.00           0.00           0.00            2.00  \n",
       "50%             0.00           0.00           0.00            3.00  \n",
       "75%             0.00           1.00           0.00            4.00  \n",
       "max             3.00           5.00           2.00           13.00  \n",
       "\n",
       "[8 rows x 145 columns]"
      ]
     },
     "execution_count": 6,
     "metadata": {},
     "output_type": "execute_result"
    }
   ],
   "source": [
    "pd.options.display.float_format = '{:.2f}'.format\n",
    "\n",
    "train_model_set.describe()\n",
    "\n",
    "\n",
    "\n"
   ]
  },
  {
   "cell_type": "markdown",
   "metadata": {},
   "source": [
    "# Visualize Attributes\n",
    "\n"
   ]
  },
  {
   "cell_type": "code",
   "execution_count": 7,
   "metadata": {},
   "outputs": [
    {
     "data": {
      "image/png": "[encoded data removed]",
      "text/plain": [
       "<matplotlib.figure.Figure at 0xe7c95c0>"
      ]
     },
     "metadata": {},
     "output_type": "display_data"
    }
   ],
   "source": [
    "# Number of rooms by poverty level\n",
    "train_by_hhid = train_model_set.groupby('idhogar')\n",
    "rm_by_id = train_by_hhid['Target', 'rooms'].first()\n",
    "plt.figure(figsize=(10, 5));\n",
    "sns.countplot(x='rooms', hue='Target', data=rm_by_id);\n",
    "plt.title('Number of rooms in house by poverty level');\n",
    "plt.xlabel('Number of rooms');\n",
    "\n",
    "\n",
    "\n",
    "\n",
    "\n",
    "\n"
   ]
  },
  {
   "cell_type": "markdown",
   "metadata": {},
   "source": [
    "The first variable that we looked at is the total number of rooms in the individual's house.  We have aggregated by household to ensure that there is no double counting of homes.  The most common number of rooms for people that are not vulnerable is 5 rooms while the number of rooms for the most vulnerable (extreme, moderate, and vulnerable to poverty) households is 4 rooms.  Very few households experiencing poverty or vulnerable have more than 5 rooms.\n"
   ]
  },
  {
   "cell_type": "code",
   "execution_count": 8,
   "metadata": {},
   "outputs": [
    {
     "data": {
      "image/png": "[encoded data removed]",
      "text/plain": [
       "<matplotlib.figure.Figure at 0xe7deda0>"
      ]
     },
     "metadata": {},
     "output_type": "display_data"
    }
   ],
   "source": [
    "\n",
    "# Box plot of Education by poverty level\n",
    "fig, (ax1) = plt.subplots(1); sns.boxplot(x='Target', y='meaneduc', data=train_model_set, ax=ax1); \n",
    "fig.suptitle('Distribution of mean years education by poverty level', x=1, y=1, multialignment = 'center');\n",
    "\n",
    "\n",
    "\n"
   ]
  },
  {
   "cell_type": "markdown",
   "metadata": {},
   "source": [
    "There is very little distinction in mean years of education in the target groups that are extreme, moderate, or are vulnerable with the mean  of each roughly around 5.  Meanwhile, those who are not vulnerable have a mean of roughly 10.\n"
   ]
  },
  {
   "cell_type": "code",
   "execution_count": 9,
   "metadata": {},
   "outputs": [
    {
     "data": {
      "image/png": "[encoded data removed]",
      "text/plain": [
       "<matplotlib.figure.Figure at 0xd6a2240>"
      ]
     },
     "metadata": {},
     "output_type": "display_data"
    }
   ],
   "source": [
    "# Box plot of monthly rent payment by poverty level\n",
    "fig, (ax1) = plt.subplots(1); sns.boxplot(x='Target', y='v2a1', data=train_model_set, ax=ax1); \n",
    "fig.suptitle('Distribution of monthly rent payment by poverty level', x=1, y=1);"
   ]
  },
  {
   "cell_type": "markdown",
   "metadata": {},
   "source": [
    "Similar to mean years of education, there is not a significant difference in mean monthly rent for the target groups that are extreme, moderate, or are vulnerable, but there is a wider range of rent in the moderate and vulnerable groups.  Also, the non-vulnerable group appears to have a higher rent than the other groups."
   ]
  },
  {
   "cell_type": "code",
   "execution_count": 10,
   "metadata": {},
   "outputs": [
    {
     "data": {
      "image/png": "[encoded data removed]",
      "text/plain": [
       "<matplotlib.figure.Figure at 0xe8d59b0>"
      ]
     },
     "metadata": {},
     "output_type": "display_data"
    }
   ],
   "source": [
    "# Box Plot of Total Number of adults per household\n",
    "fig, (ax1) = plt.subplots(1); sns.boxplot(x='Target', y='hogar_nin', data=train_model_set, ax=ax1); \n",
    "fig.suptitle('Number of adults per household by poverty level', x=1, y=1);\n"
   ]
  },
  {
   "cell_type": "code",
   "execution_count": 11,
   "metadata": {},
   "outputs": [
    {
     "data": {
      "image/png": "[encoded data removed]",
      "text/plain": [
       "<matplotlib.figure.Figure at 0xe8ce4e0>"
      ]
     },
     "metadata": {},
     "output_type": "display_data"
    }
   ],
   "source": [
    "# Numbers of Tablets by poverty level\n",
    "tablets_by_id = train_by_hhid['Target', 'JM_Sum_of_Tablets'].first()\n",
    "plt.figure(figsize=(10, 5));\n",
    "sns.countplot(x='JM_Sum_of_Tablets', hue='Target', data= tablets_by_id);\n",
    "plt.title('Number of tablets by poverty level');\n",
    "plt.xlabel('Number of Tablets');\n"
   ]
  },
  {
   "cell_type": "markdown",
   "metadata": {},
   "source": [
    "In reviewing the number of tablets by poverty level per household, the majority of households with extreme, moderate, and vulnerable to poverty groups have zero tablets.  While the majority of households that are not vulnerable to poverty also have no tablets, households that have one or more tablet are almost exclusively not vulnerable to poverty."
   ]
  },
  {
   "cell_type": "code",
   "execution_count": 12,
   "metadata": {},
   "outputs": [
    {
     "data": {
      "image/png": "[encoded data removed]",
      "text/plain": [
       "<matplotlib.figure.Figure at 0xcb372e8>"
      ]
     },
     "metadata": {},
     "output_type": "display_data"
    }
   ],
   "source": [
    "# Presence of computer or television by poverty level\n",
    "comp_tv_by_id = train_by_hhid['Target', 'computer', 'television'].first()\n",
    "fig, (ax1, ax2) = plt.subplots(1, 2)\n",
    "sns.countplot(x='computer', hue='Target', data=comp_tv_by_id, ax=ax1);\n",
    "sns.countplot(x='television', hue='Target', data=comp_tv_by_id, ax=ax2);\n",
    "ax1.set_xticklabels(['No', 'Yes']);\n",
    "ax2.set_xticklabels(['No', 'Yes']);\n",
    "ax1.set_xlabel('Has computer');\n",
    "ax2.set_ylabel('Has television');\n",
    "fig.subplots_adjust(left=0.1, right=2)\n",
    "fig.suptitle('Presence of Computer or Television by Poverty Level', x=1, y=1, fontsize=16);\n"
   ]
  },
  {
   "cell_type": "markdown",
   "metadata": {},
   "source": [
    "There does not appear to be a significant distinction in the households that do not have a computer relative to the level of poverty.  On the other hand, few households that are in the target groups 1 through 3 while there is a significantly higher number of households that have a computer that are not vulnerable.\n",
    "\n",
    "There is a similar distribution of households with a television relative to those that have a computer.  There does not appear to be a significant distinction in the households that do not have a television relative to the level of poverty.  On the other hand, few households that are in the target groups 1 through 3 while there is a significantly higher number of households that have a television that are not vulnerable."
   ]
  },
  {
   "cell_type": "markdown",
   "metadata": {},
   "source": [
    "# Explore Joint Attributes\n",
    "\n",
    "Identify and explain interesting relationships between features and the class you are trying to predict (i.e., relationships with variables and the target classsification). "
   ]
  },
  {
   "cell_type": "code",
   "execution_count": 13,
   "metadata": {},
   "outputs": [
    {
     "name": "stdout",
     "output_type": "stream",
     "text": [
      "       Target  dependency    r4m3  hogar_nin  tipovivi3    r4t3    r4h3\n",
      "count 2973.00     2973.00 2973.00    2973.00    2973.00 2973.00 2973.00\n",
      "mean     3.36        1.33    1.67       0.97       0.18    3.22    1.56\n",
      "std      0.99        2.15    1.07       1.16       0.38    1.59    1.06\n",
      "min      1.00        0.00    0.00       0.00       0.00    1.00    0.00\n",
      "25%      3.00        0.00    1.00       0.00       0.00    2.00    1.00\n",
      "50%      4.00        0.50    1.00       1.00       0.00    3.00    1.00\n",
      "75%      4.00        1.00    2.00       2.00       0.00    4.00    2.00\n",
      "max      4.00        8.00    8.00       9.00       1.00   13.00    8.00\n",
      "Target\n",
      "1   1.56\n",
      "2   1.82\n",
      "3   1.95\n",
      "4   1.09\n",
      "Name: dependency, dtype: float64\n"
     ]
    },
    {
     "name": "stderr",
     "output_type": "stream",
     "text": [
      "C:\\Anaconda\\lib\\site-packages\\ipykernel_launcher.py:2: SettingWithCopyWarning: \n",
      "A value is trying to be set on a copy of a slice from a DataFrame.\n",
      "Try using .loc[row_indexer,col_indexer] = value instead\n",
      "\n",
      "See the caveats in the documentation: http://pandas.pydata.org/pandas-docs/stable/indexing.html#indexing-view-versus-copy\n",
      "  \n"
     ]
    },
    {
     "data": {
      "image/png": "[encoded data removed]",
      "text/plain": [
       "<matplotlib.figure.Figure at 0xd517630>"
      ]
     },
     "metadata": {},
     "output_type": "display_data"
    }
   ],
   "source": [
    "train_intvars = train_model_set[['Target','dependency','r4m3','hogar_nin','tipovivi3','r4t3','r4h3']]\n",
    "train_intvars['dependency'] = train_intvars['dependency'].astype(np.float64)\n",
    "print(train_intvars.describe())\n",
    "\n",
    "dependency_group = train_intvars.groupby(by=['Target'])\n",
    "average_dependency=dependency_group.dependency.mean()\n",
    "ax = average_dependency.plot(kind='bar')\n",
    "plt.ylabel('Dependency Ratio to Household')\n",
    "plt.title('Average Dependency Ratio')\n",
    "print(average_dependency)\n"
   ]
  },
  {
   "cell_type": "markdown",
   "metadata": {},
   "source": [
    "When looking at the average dependency ratio for each poverty level, we see that poverty levels 1 to 3 are higher than 4. The trend seems to indiciate that people of less poverty have lower number of depencies compared to higher poverty levels. This could indicate that the management of money is spread out more thinly because of higher number of dependents."
   ]
  },
  {
   "cell_type": "code",
   "execution_count": 14,
   "metadata": {},
   "outputs": [
    {
     "name": "stdout",
     "output_type": "stream",
     "text": [
      "Target\n",
      "1     441\n",
      "2     831\n",
      "3     636\n",
      "4    3045\n",
      "Name: r4m3, dtype: int64\n",
      "Target\n",
      "1   0.57\n",
      "2   0.53\n",
      "3   0.53\n",
      "4   0.50\n",
      "dtype: float64\n"
     ]
    },
    {
     "data": {
      "image/png": "[encoded data removed]",
      "text/plain": [
       "<matplotlib.figure.Figure at 0xd5aca20>"
      ]
     },
     "metadata": {},
     "output_type": "display_data"
    }
   ],
   "source": [
    "females_hh = train_intvars.groupby(by=['Target'])\n",
    "female_total = females_hh.r4m3.sum() \n",
    "female_pct=females_hh.r4m3.sum() / females_hh.r4t3.sum()\n",
    "fx = female_pct.plot(kind='bar')\n",
    "plt.ylabel('Percentage')\n",
    "plt.title('Percent of Females in the Household')\n",
    "\n",
    "print(female_total)\n",
    "print(female_pct)"
   ]
  },
  {
   "cell_type": "markdown",
   "metadata": {},
   "source": [
    "When looking at the number of females in a given household as a percentage, we see that the trend is going downwards as the poverty level decreases. This could indicate that females may have obstacles in terms of obtaining meaningful income if there is such as high number of females percentage wise in the lower income levels."
   ]
  },
  {
   "cell_type": "code",
   "execution_count": 15,
   "metadata": {},
   "outputs": [
    {
     "name": "stdout",
     "output_type": "stream",
     "text": [
      "Target\n",
      "1     334\n",
      "2     732\n",
      "3     570\n",
      "4    2989\n",
      "Name: r4h3, dtype: int64\n",
      "Target\n",
      "1   0.43\n",
      "2   0.47\n",
      "3   0.47\n",
      "4   0.50\n",
      "dtype: float64\n"
     ]
    },
    {
     "data": {
      "image/png": "[encoded data removed]",
      "text/plain": [
       "<matplotlib.figure.Figure at 0xee94f60>"
      ]
     },
     "metadata": {},
     "output_type": "display_data"
    }
   ],
   "source": [
    "males_hh = train_intvars.groupby(by=['Target'])\n",
    "male_total = males_hh.r4h3.sum()\n",
    "male_pct=males_hh.r4h3.sum() / males_hh.r4t3.sum()\n",
    "mx = male_pct.plot(kind='bar')\n",
    "plt.ylabel('Percentage')\n",
    "plt.title('Percent of Males in the Household')\n",
    "print(male_total)\n",
    "print(male_pct)"
   ]
  },
  {
   "cell_type": "markdown",
   "metadata": {},
   "source": [
    "Looking at the number of males based on percentage of household, we can see an upward trend as poverty level increases. This seems to show that males have less obstacles in obtaining meaningful income. When looking at the graph for male and female percentages, we see that the story shows there could be disparity between males and females."
   ]
  },
  {
   "cell_type": "code",
   "execution_count": 16,
   "metadata": {},
   "outputs": [
    {
     "name": "stdout",
     "output_type": "stream",
     "text": [
      "Target\n",
      "1   1.32\n",
      "2   1.14\n",
      "3   1.12\n",
      "4   1.02\n",
      "dtype: float64\n"
     ]
    },
    {
     "data": {
      "image/png": "[encoded data removed]",
      "text/plain": [
       "<matplotlib.figure.Figure at 0xc80fcc0>"
      ]
     },
     "metadata": {},
     "output_type": "display_data"
    }
   ],
   "source": [
    "fm_ratio = train_intvars.groupby(by=['Target'])\n",
    "fm_ratio_comp=fm_ratio.r4m3.sum() / fm_ratio.r4h3.sum()\n",
    "fmx = fm_ratio_comp.plot(kind='bar')\n",
    "plt.ylabel('Ratio')\n",
    "plt.title('Female to Male Ratio ')\n",
    "print(fm_ratio_comp)"
   ]
  },
  {
   "cell_type": "markdown",
   "metadata": {},
   "source": [
    "When looking at the female to male ratio, this further shows the disparity in poverty between females and males. Seeing that females are of higher ratio in the poverty level 1, shows that there could issues in income disparity or adverse selection against females in the workforce."
   ]
  },
  {
   "cell_type": "code",
   "execution_count": 17,
   "metadata": {},
   "outputs": [
    {
     "name": "stdout",
     "output_type": "stream",
     "text": [
      "Target\n",
      "1   3.49\n",
      "2   3.54\n",
      "3   3.40\n",
      "4   3.09\n",
      "Name: r4t3, dtype: float64\n"
     ]
    },
    {
     "data": {
      "image/png": "[encoded data removed]",
      "text/plain": [
       "<matplotlib.figure.Figure at 0xd53b438>"
      ]
     },
     "metadata": {},
     "output_type": "display_data"
    }
   ],
   "source": [
    "household_ppl = train_intvars.groupby(by=['Target'])\n",
    "household_cnt=household_ppl.r4t3.mean()\n",
    "hx = household_cnt.plot(kind='bar')\n",
    "plt.ylabel('Total')\n",
    "plt.title('Average Number of People in Household')\n",
    "\n",
    "print(household_cnt)"
   ]
  },
  {
   "cell_type": "markdown",
   "metadata": {},
   "source": [
    "The average of number of households decreases as poverty level decreases going for 3.49 to 3.09. This seems to go hand in hand with the dependency relationship stated earlier, indicating that larger households could indicate more dependents meaning less individuals who can share the cost of the household."
   ]
  },
  {
   "cell_type": "code",
   "execution_count": 18,
   "metadata": {},
   "outputs": [
    {
     "name": "stdout",
     "output_type": "stream",
     "text": [
      "Target\n",
      "1     35\n",
      "2     73\n",
      "3     56\n",
      "4    373\n",
      "Name: tipovivi3, dtype: int64\n",
      "Target\n",
      "1   0.05\n",
      "2   0.05\n",
      "3   0.05\n",
      "4   0.06\n",
      "dtype: float64\n"
     ]
    },
    {
     "data": {
      "image/png": "[encoded data removed]",
      "text/plain": [
       "<matplotlib.figure.Figure at 0xd714160>"
      ]
     },
     "metadata": {},
     "output_type": "display_data"
    }
   ],
   "source": [
    "rent = train_intvars.groupby(by=['Target'])\n",
    "rent_cnt=rent.tipovivi3.sum()/rent.r4t3.sum()\n",
    "rent_count = rent.tipovivi3.sum()\n",
    "rx = rent_cnt.plot(kind='bar')\n",
    "plt.ylabel('Percentage')\n",
    "plt.title('Percentage of Households that Pay Rent')\n",
    "\n",
    "print(rent_count)\n",
    "print(rent_cnt)"
   ]
  },
  {
   "cell_type": "markdown",
   "metadata": {},
   "source": [
    "When looking at the percentage of households that pay rent, we see that the lower poverty levels have more households that pay rent. This seems to show that people of higher poverty levels are not able to afford the rent or already own a house. This could also be an indicator that these households may not have a shelter to live since rent cannot be afforded."
   ]
  },
  {
   "cell_type": "code",
   "execution_count": 19,
   "metadata": {},
   "outputs": [
    {
     "name": "stdout",
     "output_type": "stream",
     "text": [
      "Target\n",
      "1     775\n",
      "2    1563\n",
      "3    1206\n",
      "4    6034\n",
      "Name: r4t3, dtype: int64\n",
      "Target\n",
      "1     354\n",
      "2     634\n",
      "3     418\n",
      "4    1469\n",
      "Name: hogar_nin, dtype: int64\n",
      "Target\n",
      "1   0.46\n",
      "2   0.41\n",
      "3   0.35\n",
      "4   0.24\n",
      "dtype: float64\n"
     ]
    },
    {
     "data": {
      "image/png": "[encoded data removed]",
      "text/plain": [
       "<matplotlib.figure.Figure at 0xd784f60>"
      ]
     },
     "metadata": {},
     "output_type": "display_data"
    }
   ],
   "source": [
    "child = train_intvars.groupby(by=['Target'])\n",
    "child_pct=child.hogar_nin.sum()/child.r4t3.sum()\n",
    "child_cnt = child.hogar_nin.sum()\n",
    "ppl = child.r4t3.sum()\n",
    "cctx = child_pct.plot(kind='bar')\n",
    "plt.ylabel('Percent')\n",
    "plt.title('Percentage of Children in Household')\n",
    "\n",
    "print(ppl)\n",
    "print(child_cnt)\n",
    "print(child_pct)"
   ]
  },
  {
   "cell_type": "markdown",
   "metadata": {},
   "source": [
    "The percentage of children in the household is a further breakdown of dependencies, since dependencies can include old and young. The trend seems to be a downward trend as poverty level decreases. This also shows that a large percentage of individuals for dependencies are children. This could help determine where the large cost of household is concentrated on."
   ]
  },
  {
   "cell_type": "code",
   "execution_count": 20,
   "metadata": {},
   "outputs": [
    {
     "name": "stderr",
     "output_type": "stream",
     "text": [
      "C:\\Anaconda\\lib\\site-packages\\ipykernel_launcher.py:3: SettingWithCopyWarning: \n",
      "A value is trying to be set on a copy of a slice from a DataFrame.\n",
      "Try using .loc[row_indexer,col_indexer] = value instead\n",
      "\n",
      "See the caveats in the documentation: http://pandas.pydata.org/pandas-docs/stable/indexing.html#indexing-view-versus-copy\n",
      "  This is separate from the ipykernel package so we can avoid doing imports until\n",
      "C:\\Anaconda\\lib\\site-packages\\ipykernel_launcher.py:4: FutureWarning: 'pandas.tools.plotting.scatter_matrix' is deprecated, import 'pandas.plotting.scatter_matrix' instead.\n",
      "  after removing the cwd from sys.path.\n"
     ]
    },
    {
     "data": {
      "image/png": "[encoded data removed]",
      "text/plain": [
       "<matplotlib.figure.Figure at 0xd70f630>"
      ]
     },
     "metadata": {},
     "output_type": "display_data"
    }
   ],
   "source": [
    "from pandas.tools.plotting import scatter_matrix\n",
    "btw_intvars = train_model_set[['dependency','r4m3','r4t3','r4h3','hogar_nin']]\n",
    "btw_intvars['dependency'] = btw_intvars['dependency'].astype(np.float64)\n",
    "sx = scatter_matrix(btw_intvars,figsize=(15, 10))"
   ]
  },
  {
   "cell_type": "markdown",
   "metadata": {},
   "source": [
    "The scatterplot and histrogram matrix is to see if there is any interesting correlations between the explanatory variables given earlier in the analysis. When looking at the scatterplots, we can see that there is some type of relationship between number of children (hogar_nin) and total number of females (r4m3) and total number of household (r4t3). They all show a positive relationship between the three variables. The number of children (hogar_nin) and dependency also show a positive relationship between the two variables. The total number of household all show a positive relationship between the total number of females, total number of males, total of number of children, and dependency. These correlations are to be kept in mind when looking at regression modeling since there could be residual issues when using highly correlated variables. When looking at the histograms, we can see that they are left skewed. This seems to show that the variables have higher counts near the lower end of the scale indicating lower number of dependicies, children, etc.."
   ]
  },
  {
   "cell_type": "markdown",
   "metadata": {},
   "source": [
    "# New Features \n",
    "\n",
    "New Field Name|Definition|Variable Type\n",
    "--------------------------------------------------------|----------|--------------|\n",
    "JM_1YrBehindSchool|Count of individuals when rez_esc Count of  1|int\n",
    "JM_2YrBehindSchool|Count of individuals when rez_esc Count of  2|int\n",
    "JM_3YrBehindSchool|Count of individuals when rez_esc Count of  3|int\n",
    "JM_4YrBehindSchool|Count of individuals when rez_esc Count of  4|int\n",
    "JM_5YrBehindSchool|Count of individuals when rez_esc Count of  5|int\n",
    "JM_estadocivil1| Count of children 1 if less than 10 years old|int\n",
    "JM_estadocivil2| Count of people if free or coupled uunion|int\n",
    "JM_estadocivil3| Count of people if married|int\n",
    "JM_estadocivil4| Count of people if divorced|int\n",
    "JM_estadocivil5| Count of people if separated|int\n",
    "JM_estadocivil6| Count of people if widow/er|int\n",
    "JM_estadocivil7| Count of people if single|int\n",
    "JM_instlevel1| Count of people no level of education|int\n",
    "JM_instlevel2| Count of people incomplete primary|int\n",
    "JM_instlevel3| Count of people complete primary|int\n",
    "JM_instlevel4| Count of people incomplete academic secondary level|int\n",
    "JM_instlevel5| Count of people complete academic secondary level|int\n",
    "JM_instlevel6| Count of people incomplete technical secondary level|int\n",
    "JM_instlevel7| Count of people complete technical secondary level|int\n",
    "JM_instlevel8| Count of people undergraduate and higher education|int\n",
    "JM_instlevel9| Count of people postgraduate higher education|int\n",
    "JM_mobilephone| Count of people if mobile phone|int\n",
    "JM_parentesco1| Count of people if household head|int\n",
    "JM_parentesco10| Count of people if brother/sister in law|int\n",
    "JM_parentesco11| Count of people if other family member|int\n",
    "JM_parentesco12| Count of people if other non family member|int\n",
    "JM_parentesco2| Count of people if spouse/partner|int\n",
    "JM_parentesco3| Count of people if son/doughter|int\n",
    "JM_parentesco4| Count of people if stepson/doughter|int\n",
    "JM_parentesco5| Count of people if son/doughter in law|int\n",
    "JM_parentesco6| Count of people if grandson/doughter|int\n",
    "JM_parentesco7| Count of people if mother/father|int\n",
    "JM_parentesco8| Count of people if father/mother in law|int\n",
    "JM_parentesco9| Count of people if brother/sister|int\n",
    "JM_People_Educ_LT10|Count of individuals when schooling (escolari) < 10|int\n",
    "JM_People_Educ_LT15|Count of individuals when schooling (escolari) < 15|int\n",
    "JM_People_Educ_LT20|Count of individuals when schooling (escolari) < 20|int\n",
    "JM_People_Educ_LT25|Count of individuals when schooling (escolari) < 25|int\n",
    "JM_People_Educ_LT5|Count of individuals when schooling (escolari) < 5|int\n",
    "JM_Sum_of_Disabled|Sum of dis for total number of disabled individuals per household|int\n",
    "JM_Sum_Of_Females|Sum of male for total number of females per household|int\n",
    "JM_Sum_Of_Males|Sum of male for total number of males per household|int\n",
    "JM_Sum_of_Tablets|Sum of v18q for total tablets per household|int\n",
    "Total Sum Years of Schooling|Sum of escolari for total years of schooling per household|int\n",
    "\n",
    "\n"
   ]
  },
  {
   "cell_type": "markdown",
   "metadata": {},
   "source": [
    "# Exceptional Work \n",
    "\n",
    "Exceptional work here I believe should go to the amount of data cleaning that needed to occur to get the dataset ready.  Denormalizaition was needed as the data was submitted at the member level, but the submission and model needs to occur at the household level.  This added a lot more complexity and intimacy with the data to do this correctly and we added 28 new features from this.  \n"
   ]
  },
  {
   "cell_type": "markdown",
   "metadata": {},
   "source": [
    "# Create Models\n"
   ]
  },
  {
   "cell_type": "code",
   "execution_count": 21,
   "metadata": {},
   "outputs": [],
   "source": [
    "#Dropping the Keys\n",
    "train_model_set = train_model_set.drop('Id', axis = 1)\n",
    "train_model_set = train_model_set.drop('idhogar', axis = 1)\n",
    "\n",
    "\n",
    "\n",
    "\n"
   ]
  },
  {
   "cell_type": "code",
   "execution_count": 22,
   "metadata": {},
   "outputs": [],
   "source": [
    "#Obtain Dependent and Independent Variables\n",
    "\n",
    "from sklearn.model_selection import train_test_split\n",
    "X = train_model_set.drop('Target', axis = 1)\n",
    "y = train_model_set.Target\n",
    "\n",
    "\n"
   ]
  },
  {
   "cell_type": "code",
   "execution_count": null,
   "metadata": {},
   "outputs": [],
   "source": [
    "#Create train and test set from train\n",
    "\n",
    "from sklearn.model_selection import ShuffleSplit\n",
    "\n",
    "\n",
    "X_train, X_test, y_train, y_test = train_test_split(X, y, test_size=0.20, random_state=42)"
   ]
  },
  {
   "cell_type": "code",
   "execution_count": 41,
   "metadata": {},
   "outputs": [],
   "source": [
    "#Feature Selection \n",
    "\n",
    "#To Use Linear SVM, we need to reduce the number of features. Using feature selection.\n",
    "\n",
    "\n",
    "from sklearn.datasets import make_classification\n",
    "from sklearn.ensemble import ExtraTreesClassifier\n",
    "\n",
    "# Build a classification task using 3 informative features\n",
    "X, y = make_classification(n_samples=1000,\n",
    "                           n_features=147,\n",
    "                           n_informative=3,\n",
    "                           n_redundant=0,\n",
    "                           n_repeated=0,\n",
    "                           n_classes=2,\n",
    "                           random_state=0,\n",
    "                           shuffle=False)\n",
    "\n",
    "# Build a forest and compute the feature importances\n",
    "forest = ExtraTreesClassifier(n_estimators=250,\n",
    "                              random_state=0)\n",
    "\n",
    "forest.fit(X_train, y_train)\n",
    "importances = forest.feature_importances_\n"
   ]
  },
  {
   "cell_type": "code",
   "execution_count": 23,
   "metadata": {},
   "outputs": [
    {
     "name": "stdout",
     "output_type": "stream",
     "text": [
      "accuracy 0.6957983193277311\n",
      "confusion matrix\n",
      " [[  9  17   0  17]\n",
      " [  8  25   6  52]\n",
      " [  4   6   7  60]\n",
      " [  3   6   2 373]]\n"
     ]
    }
   ],
   "source": [
    "#Running Logistic Regression\n",
    "\n",
    "# run logistic regression and vary some parameters\n",
    "\n",
    "from sklearn.linear_model import LogisticRegression\n",
    "from sklearn import metrics as mt\n",
    "\n",
    "\n",
    "lr_clf = LogisticRegression(C=1,  class_weight=None)\n",
    "  \n",
    "# train the reusable logisitc regression model on the training data\n",
    "X_train2 = X_train.drop(['r4m3','r4t3','r4h3','v2a1','refrig','JM_Sum_of_Tablets','r4h1','r4h2','r4m2','r4t2','r4t3','tamhog','paredpreb','pareddes','paredfibras','paredother','pisomoscer','pisocemento',\n",
    "                        'pisoother','pisonatur','techozinc','techoentrepiso','techootro','abastaguano','noelec','sanitario1','sanitario3','sanitario6','energcocinar2','elimbasu1','elimbasu2','elimbasu4','elimbasu5',\n",
    "                         'epared1','etecho2','eviv1','hogar_nin','computer','parentesco1','JM_parentesco1'],axis=1)\n",
    "X_test2= X_test.drop(['r4m3','r4t3','r4h3','v2a1','refrig','JM_Sum_of_Tablets','r4h1','r4h2','r4m2','r4t2','r4t3','tamhog','paredpreb','pareddes','paredfibras','paredother','pisomoscer','pisocemento',\n",
    "                     'pisoother','pisonatur','techozinc','techoentrepiso','techootro','abastaguano','noelec','sanitario1','sanitario3','sanitario6','energcocinar2','elimbasu1','elimbasu2','elimbasu4','elimbasu5'\n",
    "                     ,'epared1','etecho2','eviv1','hogar_nin','computer','parentesco1','JM_parentesco1'],axis=1)\n",
    "lr_clf.fit(X_train2,y_train)  # train object\n",
    "y_hat = lr_clf.predict(X_test2) # get test set precitions\n",
    "\n",
    "# now let's get the accuracy and confusion matrix for this iterations of training/testing\n",
    "acc = mt.accuracy_score(y_test,y_hat)\n",
    "conf = mt.confusion_matrix(y_test,y_hat)\n",
    "\n",
    "print(\"accuracy\", acc )\n",
    "print(\"confusion matrix\\n\",conf)\n",
    "\n",
    "\n"
   ]
  },
  {
   "cell_type": "code",
   "execution_count": 38,
   "metadata": {},
   "outputs": [
    {
     "data": {
      "text/plain": [
       "<matplotlib.axes._subplots.AxesSubplot at 0x1c656630>"
      ]
     },
     "execution_count": 38,
     "metadata": {},
     "output_type": "execute_result"
    },
    {
     "data": {
      "image/png": "[encoded data removed]",
      "text/plain": [
       "<matplotlib.figure.Figure at 0x1c656c50>"
      ]
     },
     "metadata": {},
     "output_type": "display_data"
    }
   ],
   "source": [
    "\n",
    "\n",
    "\n",
    "\n"
   ]
  },
  {
   "cell_type": "code",
   "execution_count": 29,
   "metadata": {},
   "outputs": [
    {
     "name": "stdout",
     "output_type": "stream",
     "text": [
      "accuracy 0.645378151261\n",
      "confusion matrix\n",
      " [[  0   0   0  43]\n",
      " [  0   0   0  91]\n",
      " [  0   0   0  77]\n",
      " [  0   0   0 384]]\n"
     ]
    }
   ],
   "source": [
    "\n",
    "#SVM\n",
    "\n",
    "from sklearn import svm\n",
    "\n",
    "from sklearn.preprocessing import StandardScaler\n",
    "scl_obj = StandardScaler()\n",
    "X_train_sv = X_train[['meaneduc','JM_People_Educ_LT15','overcrowding','public']]\n",
    "X_test_sv = X_test[['meaneduc','JM_People_Educ_LT15','overcrowding','public']]\n",
    "scl_obj.fit(X_train_sv)\n",
    "\n",
    "X_train_scaled = scl_obj.transform(X_train_sv)\n",
    "X_test_scaled = scl_obj.transform(X_test_sv) \n",
    "svm_clf = svm.SVC(gamma='auto', C=100, kernel='linear')\n",
    "svm_clf.fit(X_train_scaled, y_train)  \n",
    "\n",
    "y_hat2 = svm_clf.predict(X_test_scaled)\n",
    "\n",
    "acc = mt.accuracy_score(y_test,y_hat2)\n",
    "conf = mt.confusion_matrix(y_test,y_hat2)\n",
    "\n",
    "print(\"accuracy\", acc )\n",
    "print(\"confusion matrix\\n\",conf)\n"
   ]
  },
  {
   "cell_type": "code",
   "execution_count": 24,
   "metadata": {},
   "outputs": [
    {
     "name": "stdout",
     "output_type": "stream",
     "text": [
      "accuracy 0.690756302521\n",
      "confusion matrix\n",
      " [[  7  13   1  22]\n",
      " [  5  28   5  53]\n",
      " [  1   9   7  60]\n",
      " [  1   9   5 369]]\n"
     ]
    }
   ],
   "source": [
    "#Random Forest\n",
    "\n",
    "from sklearn.ensemble import RandomForestClassifier\n",
    "\n",
    "rf_clf = RandomForestClassifier(n_estimators=100, random_state=0)\n",
    "\n",
    "rf_clf.fit(X_train, y_train)\n",
    "\n",
    "\n",
    "y_hat3 = rf_clf.predict(X_test)\n",
    "\n",
    "acc = mt.accuracy_score(y_test,y_hat3)\n",
    "conf = mt.confusion_matrix(y_test,y_hat3)\n",
    "\n",
    "print(\"accuracy\", acc )\n",
    "print(\"confusion matrix\\n\",conf)"
   ]
  },
  {
   "cell_type": "markdown",
   "metadata": {},
   "source": [
    "# Model Advantages\n",
    "\n",
    "Discuss the advantages of each model for each classification task. Does one type of model offer superior performance over another in terms of prediction accuracy? In terms of training time or efficiency? Explain in detail."
   ]
  },
  {
   "cell_type": "markdown",
   "metadata": {},
   "source": [
    "# Interpret Feature Importance\n",
    "\n",
    "Use the weights from logistic regression to interpret the importance of different features for the classification task. Explain your interpretation in detail. Why do you think some variables are more important?\n"
   ]
  },
  {
   "cell_type": "code",
   "execution_count": 25,
   "metadata": {},
   "outputs": [
    {
     "name": "stdout",
     "output_type": "stream",
     "text": [
      "accuracy: 0.694117647059\n",
      "[[ 10  16   0  17]\n",
      " [  8  26   5  52]\n",
      " [  5   6   7  59]\n",
      " [  4   7   3 370]]\n",
      "model 1 variable SQBovercrowding has weight of -0.516961600057\n",
      "model 1 variable qmobilephone has weight of -0.51021643553\n",
      "model 1 variable meaneduc has weight of -0.50259009367\n",
      "model 1 variable hogar_adul has weight of -0.461344682039\n",
      "model 1 variable SQBescolari has weight of -0.360123154267\n",
      "model 1 variable hhsize has weight of -0.359647072574\n",
      "model 1 variable hogar_total has weight of -0.359647072574\n",
      "model 1 variable Total Sum Years of Schooling has weight of -0.347020871563\n",
      "model 1 variable dependency has weight of -0.345958680383\n",
      "model 1 variable JM_instlevel9 has weight of -0.275837076378\n",
      "model 1 variable JM_parentesco4 has weight of -0.24718943675\n",
      "model 1 variable JM_estadocivil6 has weight of -0.210927342184\n",
      "model 1 variable tipovivi3 has weight of -0.163208457232\n",
      "model 1 variable JM_parentesco6 has weight of -0.16230468719\n",
      "model 1 variable cielorazo has weight of -0.159727959941\n",
      "model 1 variable r4m1 has weight of -0.158517774447\n",
      "model 1 variable edjefe has weight of -0.148741460385\n",
      "model 1 variable JM_Sum_Of_Males has weight of -0.139163666343\n",
      "model 1 variable sanitario2 has weight of -0.134497450513\n",
      "model 1 variable JM_People_Educ_LT10 has weight of -0.134268799485\n",
      "model 1 variable elimbasu6 has weight of -0.126569519069\n",
      "model 1 variable JM_instlevel6 has weight of -0.114417594018\n",
      "model 1 variable television has weight of -0.113944882645\n",
      "model 1 variable JM_estadocivil2 has weight of -0.106115641865\n",
      "model 1 variable paredblolad has weight of -0.100879482544\n",
      "model 1 variable JM_parentesco9 has weight of -0.0914810923604\n",
      "model 1 variable lugar5 has weight of -0.0876796796624\n",
      "model 1 variable eviv3 has weight of -0.0838758144406\n",
      "model 1 variable JM_instlevel8 has weight of -0.0835471289066\n",
      "model 1 variable pisonotiene has weight of -0.071494046335\n",
      "model 1 variable JM_mobilephone has weight of -0.0654308147611\n",
      "model 1 variable lugar1 has weight of -0.0635559634534\n",
      "model 1 variable JM_parentesco12 has weight of -0.0524991609444\n",
      "model 1 variable area2 has weight of -0.0503224478639\n",
      "model 1 variable hacapo has weight of -0.0448927601634\n",
      "model 1 variable etecho3 has weight of -0.04410519294\n",
      "model 1 variable planpri has weight of -0.0433428517221\n",
      "model 1 variable tipovivi2 has weight of -0.0396752516669\n",
      "model 1 variable JM_3YrBehindSchool has weight of -0.0373272108094\n",
      "model 1 variable JM_1YrBehindSchool has weight of -0.0371426592445\n",
      "model 1 variable v14a has weight of -0.0294928396921\n",
      "model 1 variable JM_parentesco10 has weight of -0.0257126735723\n",
      "model 1 variable hogar_mayor has weight of -0.0200724274272\n",
      "model 1 variable lugar6 has weight of -0.0114832618866\n",
      "model 1 variable paredzocalo has weight of -0.00991266518825\n",
      "model 1 variable energcocinar3 has weight of -0.00425771344082\n",
      "model 1 variable sanitario5 has weight of -0.00413783181233\n",
      "model 1 variable JM_instlevel3 has weight of -0.00360120701478\n",
      "model 1 variable v18q1 has weight of -0.00334941877816\n",
      "model 1 variable JM_estadocivil4 has weight of -0.0019800608086\n",
      "model 1 variable pisomadera has weight of -0.000713242549928\n",
      "model 1 variable paredzinc has weight of 0.00106691655008\n",
      "model 1 variable SQBhogar_total has weight of 0.00361231450956\n",
      "model 1 variable elimbasu3 has weight of 0.00586420390972\n",
      "model 1 variable JM_Sum_of_Disabled has weight of 0.00607959889082\n",
      "model 1 variable tipovivi5 has weight of 0.00637376455457\n",
      "model 1 variable JM_People_Educ_LT5 has weight of 0.00746488587532\n",
      "model 1 variable epared3 has weight of 0.0106251441159\n",
      "model 1 variable JM_parentesco8 has weight of 0.0128860925805\n",
      "model 1 variable JM_estadocivil3 has weight of 0.0135156348268\n",
      "model 1 variable JM_parentesco7 has weight of 0.0145164663082\n",
      "model 1 variable energcocinar4 has weight of 0.0301199165675\n",
      "model 1 variable tipovivi4 has weight of 0.0352305247522\n",
      "model 1 variable JM_People_Educ_LT20 has weight of 0.0397829911145\n",
      "model 1 variable JM_People_Educ_LT25 has weight of 0.0418200735399\n",
      "model 1 variable lugar2 has weight of 0.0444268221989\n",
      "model 1 variable SQBdependency has weight of 0.0455046796403\n",
      "model 1 variable epared2 has weight of 0.0460971805937\n",
      "model 1 variable eviv2 has weight of 0.047015187403\n",
      "model 1 variable area1 has weight of 0.0503224478639\n",
      "model 1 variable techocane has weight of 0.0536958726037\n",
      "model 1 variable bedrooms has weight of 0.0538385467842\n",
      "model 1 variable JM_estadocivil1 has weight of 0.0547006800326\n",
      "model 1 variable paredmad has weight of 0.0598590417596\n",
      "model 1 variable JM_5YrBehindSchool has weight of 0.0600541432146\n",
      "model 1 variable lugar3 has weight of 0.064545535651\n",
      "model 1 variable JM_parentesco5 has weight of 0.0695688858016\n",
      "model 1 variable SQBhogar_nin has weight of 0.0895873468508\n",
      "model 1 variable JM_2YrBehindSchool has weight of 0.0899167560965\n",
      "model 1 variable JM_4YrBehindSchool has weight of 0.0901521380673\n",
      "model 1 variable JM_estadocivil7 has weight of 0.0912093130869\n",
      "model 1 variable JM_instlevel7 has weight of 0.0978882251828\n",
      "model 1 variable energcocinar1 has weight of 0.11296929003\n",
      "model 1 variable lugar4 has weight of 0.113411509101\n",
      "model 1 variable JM_parentesco3 has weight of 0.113655086568\n",
      "model 1 variable JM_instlevel4 has weight of 0.125508449854\n",
      "model 1 variable tamviv has weight of 0.133343797051\n",
      "model 1 variable JM_parentesco2 has weight of 0.135265093744\n",
      "model 1 variable etecho1 has weight of 0.138442592128\n",
      "model 1 variable tipovivi1 has weight of 0.141247957342\n",
      "model 1 variable JM_estadocivil5 has weight of 0.141523161523\n",
      "model 1 variable SQBedjefe has weight of 0.181030618583\n",
      "model 1 variable hacdor has weight of 0.184224389363\n",
      "model 1 variable JM_instlevel5 has weight of 0.185550848913\n",
      "model 1 variable JM_instlevel1 has weight of 0.197871028513\n",
      "model 1 variable JM_Sum_Of_Females has weight of 0.197988736877\n",
      "model 1 variable JM_parentesco11 has weight of 0.208706638004\n",
      "model 1 variable rooms has weight of 0.222013448288\n",
      "model 1 variable JM_instlevel2 has weight of 0.223220780574\n",
      "model 1 variable edjefa has weight of 0.244988118183\n",
      "model 1 variable r4t1 has weight of 0.261343906553\n",
      "model 1 variable SQBmeaned has weight of 0.284111895858\n",
      "model 1 variable abastaguafuera has weight of 0.473334710427\n",
      "model 1 variable abastaguadentro has weight of 0.48899681512\n",
      "model 1 variable coopele has weight of 0.556288807804\n",
      "model 1 variable overcrowding has weight of 0.570581988204\n",
      "model 1 variable public has weight of 0.591548768943\n",
      "model 1 variable JM_People_Educ_LT15 has weight of 0.674229260011\n",
      "model 2 variable hogar_adul has weight of -0.827561163955\n",
      "model 2 variable SQBedjefe has weight of -0.408313495464\n",
      "model 2 variable JM_instlevel9 has weight of -0.392202136122\n",
      "model 2 variable SQBescolari has weight of -0.363237542355\n",
      "model 2 variable hacdor has weight of -0.314071630456\n",
      "model 2 variable hhsize has weight of -0.304348514167\n",
      "model 2 variable hogar_total has weight of -0.304348514167\n",
      "model 2 variable eviv3 has weight of -0.283433053236\n",
      "model 2 variable techocane has weight of -0.272316080714\n",
      "model 2 variable overcrowding has weight of -0.262519301616\n",
      "model 2 variable SQBhogar_total has weight of -0.234648006564\n",
      "model 2 variable v18q1 has weight of -0.220310208079\n",
      "model 2 variable rooms has weight of -0.212246123078\n",
      "model 2 variable JM_5YrBehindSchool has weight of -0.202821548938\n",
      "model 2 variable qmobilephone has weight of -0.196486051671\n",
      "model 2 variable JM_estadocivil4 has weight of -0.176445352265\n",
      "model 2 variable eviv2 has weight of -0.165235135076\n",
      "model 2 variable tipovivi2 has weight of -0.165030776165\n",
      "model 2 variable Total Sum Years of Schooling has weight of -0.161313704848\n",
      "model 2 variable elimbasu6 has weight of -0.157668485442\n",
      "model 2 variable JM_parentesco2 has weight of -0.14646296738\n",
      "model 2 variable abastaguafuera has weight of -0.136860705086\n",
      "model 2 variable coopele has weight of -0.132948711196\n",
      "model 2 variable r4t1 has weight of -0.119417242113\n",
      "model 2 variable JM_parentesco5 has weight of -0.115734505369\n",
      "model 2 variable paredblolad has weight of -0.115416490791\n",
      "model 2 variable public has weight of -0.112489681772\n",
      "model 2 variable r4m1 has weight of -0.109469115958\n",
      "model 2 variable SQBhogar_nin has weight of -0.0941525173981\n",
      "model 2 variable area2 has weight of -0.0940911143964\n",
      "model 2 variable JM_parentesco11 has weight of -0.0873155998506\n",
      "model 2 variable sanitario5 has weight of -0.086356395707\n",
      "model 2 variable JM_Sum_Of_Males has weight of -0.0831766076346\n",
      "model 2 variable JM_3YrBehindSchool has weight of -0.0803683821691\n",
      "model 2 variable sanitario2 has weight of -0.0802470404962\n",
      "model 2 variable JM_1YrBehindSchool has weight of -0.076142603058\n",
      "model 2 variable SQBdependency has weight of -0.0755671142026\n",
      "model 2 variable JM_parentesco8 has weight of -0.0618481972544\n",
      "model 2 variable abastaguadentro has weight of -0.0597440816853\n",
      "model 2 variable SQBmeaned has weight of -0.0532135367008\n",
      "model 2 variable lugar1 has weight of -0.0481510428782\n",
      "model 2 variable tipovivi4 has weight of -0.0471349282404\n",
      "model 2 variable JM_estadocivil1 has weight of -0.0462447270425\n",
      "model 2 variable hacapo has weight of -0.0390604369315\n",
      "model 2 variable JM_4YrBehindSchool has weight of -0.0366863399006\n",
      "model 2 variable JM_estadocivil5 has weight of -0.0354802041481\n",
      "model 2 variable paredmad has weight of -0.0273826999398\n",
      "model 2 variable v14a has weight of -0.020766481685\n",
      "model 2 variable JM_parentesco10 has weight of -0.0206936337768\n",
      "model 2 variable lugar6 has weight of -0.0203895364351\n",
      "model 2 variable television has weight of -0.0175716639181\n",
      "model 2 variable cielorazo has weight of -0.0142036888102\n",
      "model 2 variable paredzinc has weight of -0.0129290481895\n",
      "model 2 variable tipovivi3 has weight of -0.00908918520104\n",
      "model 2 variable lugar2 has weight of -0.0088730959688\n",
      "model 2 variable lugar5 has weight of -0.00263993510168\n",
      "model 2 variable energcocinar1 has weight of -0.00108561559784\n",
      "model 2 variable dependency has weight of 8.56595784494e-05\n",
      "model 2 variable etecho3 has weight of 0.000827164125013\n",
      "model 2 variable JM_estadocivil6 has weight of 0.0104253271621\n",
      "model 2 variable JM_parentesco12 has weight of 0.0174753989692\n",
      "model 2 variable JM_2YrBehindSchool has weight of 0.0227624592349\n",
      "model 2 variable JM_instlevel7 has weight of 0.025191841101\n",
      "model 2 variable JM_estadocivil7 has weight of 0.0318816623839\n",
      "model 2 variable planpri has weight of 0.0353488769169\n",
      "model 2 variable JM_instlevel6 has weight of 0.0364447096261\n",
      "model 2 variable JM_parentesco9 has weight of 0.0373539466374\n",
      "model 2 variable JM_parentesco7 has weight of 0.041031968781\n",
      "model 2 variable JM_parentesco4 has weight of 0.0424555587142\n",
      "model 2 variable paredzocalo has weight of 0.0441087778116\n",
      "model 2 variable epared3 has weight of 0.0455842127113\n",
      "model 2 variable elimbasu3 has weight of 0.048656412225\n",
      "model 2 variable tipovivi1 has weight of 0.0526728328824\n",
      "model 2 variable lugar3 has weight of 0.0554476557058\n",
      "model 2 variable pisonotiene has weight of 0.0555186537372\n",
      "model 2 variable etecho1 has weight of 0.059366910807\n",
      "model 2 variable lugar4 has weight of 0.0682882201845\n",
      "model 2 variable JM_People_Educ_LT5 has weight of 0.0722652479032\n",
      "model 2 variable energcocinar3 has weight of 0.077979865439\n",
      "model 2 variable JM_estadocivil3 has weight of 0.0863120273845\n",
      "model 2 variable JM_mobilephone has weight of 0.0867343090885\n",
      "model 2 variable energcocinar4 has weight of 0.0881191070266\n",
      "model 2 variable edjefa has weight of 0.089397433827\n",
      "model 2 variable epared2 has weight of 0.0901458238901\n",
      "model 2 variable JM_instlevel4 has weight of 0.0938874031116\n",
      "model 2 variable area1 has weight of 0.0940911143964\n",
      "model 2 variable bedrooms has weight of 0.0954333989234\n",
      "model 2 variable JM_People_Educ_LT25 has weight of 0.108609117017\n",
      "model 2 variable tipovivi5 has weight of 0.113660777232\n",
      "model 2 variable JM_instlevel8 has weight of 0.114798025525\n",
      "model 2 variable JM_People_Educ_LT20 has weight of 0.115384235538\n",
      "model 2 variable pisomadera has weight of 0.120450790112\n",
      "model 2 variable JM_instlevel5 has weight of 0.125463907869\n",
      "model 2 variable JM_parentesco6 has weight of 0.136132975702\n",
      "model 2 variable meaneduc has weight of 0.138141540697\n",
      "model 2 variable JM_instlevel2 has weight of 0.148145115625\n",
      "model 2 variable JM_instlevel1 has weight of 0.153943312615\n",
      "model 2 variable JM_parentesco3 has weight of 0.156742480096\n",
      "model 2 variable JM_instlevel3 has weight of 0.157310333133\n",
      "model 2 variable JM_estadocivil2 has weight of 0.182393402839\n",
      "model 2 variable tamviv has weight of 0.185986823388\n",
      "model 2 variable JM_Sum_of_Disabled has weight of 0.238867364654\n",
      "model 2 variable JM_Sum_Of_Females has weight of 0.241514562914\n",
      "model 2 variable hogar_mayor has weight of 0.252348367567\n",
      "model 2 variable JM_People_Educ_LT10 has weight of 0.28396522861\n",
      "model 2 variable SQBovercrowding has weight of 0.39789486991\n",
      "model 2 variable edjefe has weight of 0.414553755291\n",
      "model 2 variable JM_People_Educ_LT15 has weight of 0.730791213934\n",
      "model 3 variable SQBhogar_nin has weight of -0.701618303293\n",
      "model 3 variable hogar_adul has weight of -0.658502323896\n",
      "model 3 variable JM_instlevel9 has weight of -0.559707766734\n",
      "model 3 variable paredzinc has weight of -0.479987163293\n",
      "model 3 variable JM_People_Educ_LT10 has weight of -0.479585677821\n",
      "model 3 variable SQBmeaned has weight of -0.39838781886\n",
      "model 3 variable JM_instlevel8 has weight of -0.305909511041\n",
      "model 3 variable SQBovercrowding has weight of -0.261098931903\n",
      "model 3 variable SQBescolari has weight of -0.240817136624\n",
      "model 3 variable v18q1 has weight of -0.198042590627\n",
      "model 3 variable JM_mobilephone has weight of -0.196058719712\n",
      "model 3 variable etecho3 has weight of -0.19104448369\n",
      "model 3 variable lugar6 has weight of -0.173230327795\n",
      "model 3 variable elimbasu6 has weight of -0.170950005979\n",
      "model 3 variable SQBdependency has weight of -0.169765895924\n",
      "model 3 variable JM_4YrBehindSchool has weight of -0.166890257337\n",
      "model 3 variable edjefe has weight of -0.165455414657\n",
      "model 3 variable JM_People_Educ_LT5 has weight of -0.149775761001\n",
      "model 3 variable meaneduc has weight of -0.143782450067\n",
      "model 3 variable JM_instlevel5 has weight of -0.143702673724\n",
      "model 3 variable abastaguafuera has weight of -0.143037171183\n",
      "model 3 variable sanitario2 has weight of -0.141653046571\n",
      "model 3 variable JM_instlevel7 has weight of -0.138157192843\n",
      "model 3 variable hhsize has weight of -0.13746673206\n",
      "model 3 variable hogar_total has weight of -0.13746673206\n",
      "model 3 variable JM_5YrBehindSchool has weight of -0.136439375116\n",
      "model 3 variable qmobilephone has weight of -0.124408824198\n",
      "model 3 variable edjefa has weight of -0.122159826944\n",
      "model 3 variable hogar_mayor has weight of -0.118346437944\n",
      "model 3 variable paredzocalo has weight of -0.109749783553\n",
      "model 3 variable abastaguadentro has weight of -0.107674221881\n",
      "model 3 variable JM_estadocivil2 has weight of -0.103294410607\n",
      "model 3 variable energcocinar4 has weight of -0.101974758854\n",
      "model 3 variable paredblolad has weight of -0.0915248730214\n",
      "model 3 variable bedrooms has weight of -0.0889280499242\n",
      "model 3 variable r4m1 has weight of -0.0851363653311\n",
      "model 3 variable tipovivi2 has weight of -0.0821377924345\n",
      "model 3 variable cielorazo has weight of -0.0732626721467\n",
      "model 3 variable energcocinar3 has weight of -0.0707323077378\n",
      "model 3 variable JM_estadocivil3 has weight of -0.0695863488668\n",
      "model 3 variable planpri has weight of -0.056252957705\n",
      "model 3 variable lugar4 has weight of -0.0529588842542\n",
      "model 3 variable JM_parentesco7 has weight of -0.0515916153875\n",
      "model 3 variable JM_parentesco6 has weight of -0.0509867717315\n",
      "model 3 variable JM_parentesco11 has weight of -0.0483001126341\n",
      "model 3 variable r4t1 has weight of -0.0417010091166\n",
      "model 3 variable JM_2YrBehindSchool has weight of -0.0315334922378\n",
      "model 3 variable tipovivi5 has weight of -0.0233474283307\n",
      "model 3 variable area1 has weight of -0.0202545471787\n",
      "model 3 variable paredmad has weight of -0.0186310529919\n",
      "model 3 variable television has weight of -0.0150348116054\n",
      "model 3 variable v14a has weight of -0.00707056211138\n",
      "model 3 variable tipovivi3 has weight of -0.00685378957681\n",
      "model 3 variable hacdor has weight of -0.0041991524856\n",
      "model 3 variable elimbasu3 has weight of -0.00323410683071\n",
      "model 3 variable techocane has weight of -0.000363921743252\n",
      "model 3 variable JM_instlevel3 has weight of 0.00319287026376\n",
      "model 3 variable etecho1 has weight of 0.0080863950583\n",
      "model 3 variable lugar5 has weight of 0.0159222401998\n",
      "model 3 variable JM_parentesco12 has weight of 0.0162394455301\n",
      "model 3 variable JM_parentesco10 has weight of 0.0170914849518\n",
      "model 3 variable area2 has weight of 0.0202545471787\n",
      "model 3 variable lugar2 has weight of 0.0258379556172\n",
      "model 3 variable JM_Sum_of_Disabled has weight of 0.0263439753318\n",
      "model 3 variable overcrowding has weight of 0.0266783541273\n",
      "model 3 variable rooms has weight of 0.0275294679365\n",
      "model 3 variable JM_parentesco8 has weight of 0.0342302300652\n",
      "model 3 variable lugar1 has weight of 0.0348781073173\n",
      "model 3 variable pisonotiene has weight of 0.038186009415\n",
      "model 3 variable JM_instlevel4 has weight of 0.0394738615959\n"
     ]
    },
    {
     "name": "stdout",
     "output_type": "stream",
     "text": [
      "model 3 variable JM_Sum_Of_Males has weight of 0.0414171147411\n",
      "model 3 variable JM_estadocivil4 has weight of 0.0487994535708\n",
      "model 3 variable JM_1YrBehindSchool has weight of 0.052261264242\n",
      "model 3 variable tipovivi1 has weight of 0.0535517244988\n",
      "model 3 variable epared2 has weight of 0.0558013676133\n",
      "model 3 variable JM_parentesco3 has weight of 0.0559686532275\n",
      "model 3 variable tipovivi4 has weight of 0.057187017136\n",
      "model 3 variable energcocinar1 has weight of 0.0605979516177\n",
      "model 3 variable JM_parentesco9 has weight of 0.0614722033131\n",
      "model 3 variable pisomadera has weight of 0.0652082223916\n",
      "model 3 variable sanitario5 has weight of 0.0683498839467\n",
      "model 3 variable JM_estadocivil5 has weight of 0.0711306550876\n",
      "model 3 variable JM_instlevel6 has weight of 0.0792218267601\n",
      "model 3 variable JM_3YrBehindSchool has weight of 0.0799269903717\n",
      "model 3 variable JM_parentesco4 has weight of 0.0833652027645\n",
      "model 3 variable JM_instlevel2 has weight of 0.0927636712563\n",
      "model 3 variable JM_parentesco5 has weight of 0.0963503087632\n",
      "model 3 variable eviv2 has weight of 0.124312118383\n",
      "model 3 variable lugar3 has weight of 0.126114636447\n",
      "model 3 variable eviv3 has weight of 0.135857584204\n",
      "model 3 variable JM_estadocivil7 has weight of 0.138372865933\n",
      "model 3 variable SQBhogar_total has weight of 0.142997005372\n",
      "model 3 variable hacapo has weight of 0.144790824162\n",
      "model 3 variable JM_People_Educ_LT25 has weight of 0.145509098272\n",
      "model 3 variable JM_People_Educ_LT20 has weight of 0.148342303003\n",
      "model 3 variable JM_instlevel1 has weight of 0.156568385015\n",
      "model 3 variable JM_estadocivil1 has weight of 0.165561677301\n",
      "model 3 variable Total Sum Years of Schooling has weight of 0.169471545533\n",
      "model 3 variable epared3 has weight of 0.173404484768\n",
      "model 3 variable JM_Sum_Of_Females has weight of 0.173773876207\n",
      "model 3 variable JM_estadocivil6 has weight of 0.179315092311\n",
      "model 3 variable JM_parentesco2 has weight of 0.30843671025\n",
      "model 3 variable tamviv has weight of 0.309562476962\n",
      "model 3 variable SQBedjefe has weight of 0.392221547523\n",
      "model 3 variable dependency has weight of 0.497996605219\n",
      "model 3 variable public has weight of 0.715957755412\n",
      "model 3 variable coopele has weight of 0.777343246834\n",
      "model 3 variable JM_People_Educ_LT15 has weight of 1.00465362518\n",
      "model 4 variable JM_People_Educ_LT15 has weight of -1.18743863622\n",
      "model 4 variable public has weight of -0.522455335323\n",
      "model 4 variable coopele has weight of -0.514077939156\n",
      "model 4 variable dependency has weight of -0.452810163601\n",
      "model 4 variable JM_instlevel1 has weight of -0.395400076641\n",
      "model 4 variable JM_instlevel2 has weight of -0.333916367073\n",
      "model 4 variable JM_Sum_Of_Females has weight of -0.328186266079\n",
      "model 4 variable tamviv has weight of -0.283769240928\n",
      "model 4 variable overcrowding has weight of -0.279323683006\n",
      "model 4 variable Total Sum Years of Schooling has weight of -0.262357556061\n",
      "model 4 variable SQBmeaned has weight of -0.229469179066\n",
      "model 4 variable JM_estadocivil1 has weight of -0.212606575808\n",
      "model 4 variable JM_People_Educ_LT20 has weight of -0.199791816983\n",
      "model 4 variable JM_Sum_of_Disabled has weight of -0.196777570414\n",
      "model 4 variable JM_People_Educ_LT25 has weight of -0.19405393722\n",
      "model 4 variable JM_estadocivil7 has weight of -0.182427530454\n",
      "model 4 variable JM_parentesco3 has weight of -0.176904110662\n",
      "model 4 variable JM_parentesco2 has weight of -0.155173158346\n",
      "model 4 variable JM_instlevel3 has weight of -0.146424885791\n",
      "model 4 variable lugar3 has weight of -0.146239231381\n",
      "model 4 variable JM_instlevel4 has weight of -0.143469853567\n",
      "model 4 variable pisomadera has weight of -0.125811479359\n",
      "model 4 variable SQBedjefe has weight of -0.105163459661\n",
      "model 4 variable tipovivi1 has weight of -0.104908225988\n",
      "model 4 variable energcocinar1 has weight of -0.104410543097\n",
      "model 4 variable pisonotiene has weight of -0.102570457857\n",
      "model 4 variable epared3 has weight of -0.0935403425711\n",
      "model 4 variable area1 has weight of -0.0850551944314\n",
      "model 4 variable etecho1 has weight of -0.0842297918477\n",
      "model 4 variable tipovivi5 has weight of -0.0786947562701\n",
      "model 4 variable edjefe has weight of -0.0757378509866\n",
      "model 4 variable energcocinar4 has weight of -0.0732561803198\n",
      "model 4 variable JM_estadocivil5 has weight of -0.0728174106328\n",
      "model 4 variable edjefa has weight of -0.0728089034099\n",
      "model 4 variable bedrooms has weight of -0.0714051350634\n",
      "model 4 variable planpri has weight of -0.0635215555918\n",
      "model 4 variable epared2 has weight of -0.0593417827873\n",
      "model 4 variable lugar4 has weight of -0.0592630286202\n",
      "model 4 variable JM_instlevel6 has weight of -0.0565108603264\n",
      "model 4 variable hacapo has weight of -0.0542679081095\n",
      "model 4 variable elimbasu3 has weight of -0.0509882618854\n",
      "model 4 variable tipovivi4 has weight of -0.0503475918627\n",
      "model 4 variable JM_parentesco5 has weight of -0.0474437061316\n",
      "model 4 variable JM_parentesco11 has weight of -0.0374767828742\n",
      "model 4 variable JM_estadocivil6 has weight of -0.0303804569525\n",
      "model 4 variable JM_2YrBehindSchool has weight of -0.0302633709936\n",
      "model 4 variable energcocinar3 has weight of -0.0203110681297\n",
      "model 4 variable lugar2 has weight of -0.0186423931132\n",
      "model 4 variable SQBhogar_nin has weight of -0.0166168916364\n",
      "model 4 variable hogar_mayor has weight of -0.0133222302872\n",
      "model 4 variable JM_parentesco8 has weight of -0.0115344788913\n",
      "model 4 variable JM_parentesco6 has weight of -0.0113598400072\n",
      "model 4 variable JM_parentesco9 has weight of -0.00752657444337\n",
      "model 4 variable JM_parentesco4 has weight of -0.00570776875499\n",
      "model 4 variable JM_parentesco7 has weight of -0.00478652950791\n",
      "model 4 variable JM_parentesco10 has weight of 0.00327713970062\n",
      "model 4 variable paredmad has weight of 0.00968777880962\n",
      "model 4 variable rooms has weight of 0.0111950966543\n",
      "model 4 variable JM_3YrBehindSchool has weight of 0.0146041744877\n",
      "model 4 variable lugar5 has weight of 0.0162591692172\n",
      "model 4 variable JM_instlevel5 has weight of 0.0180473546976\n",
      "model 4 variable JM_1YrBehindSchool has weight of 0.0184810619993\n",
      "model 4 variable JM_parentesco12 has weight of 0.0203619431871\n",
      "model 4 variable techocane has weight of 0.0219420990062\n",
      "model 4 variable abastaguadentro has weight of 0.0324438687114\n",
      "model 4 variable JM_estadocivil2 has weight of 0.0326753959041\n",
      "model 4 variable hacdor has weight of 0.03288965528\n",
      "model 4 variable sanitario5 has weight of 0.0365264458936\n",
      "model 4 variable paredzocalo has weight of 0.0374219308007\n",
      "model 4 variable JM_4YrBehindSchool has weight of 0.0406373440193\n",
      "model 4 variable v14a has weight of 0.0413455955738\n",
      "model 4 variable television has weight of 0.0419978109075\n",
      "model 4 variable lugar1 has weight of 0.0425098886897\n",
      "model 4 variable JM_Sum_Of_Males has weight of 0.0431716356662\n",
      "model 4 variable r4t1 has weight of 0.0470346065952\n",
      "model 4 variable JM_estadocivil3 has weight of 0.0485638628399\n",
      "model 4 variable JM_instlevel7 has weight of 0.050264718369\n",
      "model 4 variable JM_People_Educ_LT5 has weight of 0.0521460230675\n",
      "model 4 variable JM_5YrBehindSchool has weight of 0.0601632114925\n",
      "model 4 variable eviv2 has weight of 0.0740394241937\n",
      "model 4 variable JM_estadocivil4 has weight of 0.08300116667\n",
      "model 4 variable JM_instlevel8 has weight of 0.0839303339137\n",
      "model 4 variable area2 has weight of 0.0850551944314\n",
      "model 4 variable abastaguafuera has weight of 0.100149671015\n",
      "model 4 variable cielorazo has weight of 0.101400976998\n",
      "model 4 variable tipovivi3 has weight of 0.103464168232\n",
      "model 4 variable lugar6 has weight of 0.121301210278\n",
      "model 4 variable paredzinc has weight of 0.127746012859\n",
      "model 4 variable tipovivi2 has weight of 0.134822856881\n",
      "model 4 variable r4m1 has weight of 0.136084219162\n",
      "model 4 variable etecho3 has weight of 0.144126412715\n",
      "model 4 variable JM_mobilephone has weight of 0.167063860652\n",
      "model 4 variable SQBhogar_total has weight of 0.170015090916\n",
      "model 4 variable sanitario2 has weight of 0.176994261652\n",
      "model 4 variable paredblolad has weight of 0.1833171294\n",
      "model 4 variable eviv3 has weight of 0.192612412078\n",
      "model 4 variable elimbasu6 has weight of 0.215705392818\n",
      "model 4 variable SQBovercrowding has weight of 0.250358227941\n",
      "model 4 variable JM_People_Educ_LT10 has weight of 0.254155097227\n",
      "model 4 variable v18q1 has weight of 0.266198588646\n",
      "model 4 variable SQBdependency has weight of 0.347671559968\n",
      "model 4 variable qmobilephone has weight of 0.391716343094\n",
      "model 4 variable SQBescolari has weight of 0.397741404903\n",
      "model 4 variable meaneduc has weight of 0.628668198406\n",
      "model 4 variable hhsize has weight of 0.664446951435\n",
      "model 4 variable hogar_total has weight of 0.664446951435\n",
      "model 4 variable JM_instlevel9 has weight of 0.692079740381\n",
      "model 4 variable hogar_adul has weight of 0.789376893467\n"
     ]
    }
   ],
   "source": [
    "#Logistic Regression Feature Importance\n",
    "from sklearn.preprocessing import StandardScaler\n",
    "scl_obj = StandardScaler()\n",
    "scl_obj.fit(X_train2)\n",
    "\n",
    "X_train_scaled = scl_obj.transform(X_train2)\n",
    "X_test_scaled = scl_obj.transform(X_test2) \n",
    "\n",
    "lr_clf = LogisticRegression(C=1,  class_weight=None)\n",
    "lr_clf.fit(X_train_scaled,y_train)\n",
    "\n",
    "y_hat = lr_clf.predict(X_test_scaled) # get test set precitions\n",
    "\n",
    "acc = mt.accuracy_score(y_test,y_hat)\n",
    "conf = mt.confusion_matrix(y_test,y_hat)\n",
    "print('accuracy:', acc )\n",
    "print(conf )\n",
    "\n",
    "#coeff = lr_clf.coef_\n",
    "\n",
    "for num in range(4):\n",
    "    zip_vars = zip(lr_clf.coef_[num].T,X_train2.columns) # combine attributes\n",
    "    zip_vars = sorted(zip_vars)\n",
    "    #print(zip_vars)\n",
    "    for coef, name in zip_vars:\n",
    "        print(\"model\",num+1,\"variable\",name, 'has weight of', coef)\n",
    "#print(zip_vars)\n",
    "#print(coef)\n",
    "#wtf - can't figure out how to sort this.  following example and it blows up. \n",
    "#zip_vars = sorted(zip_vars)\n",
    "\n",
    "#for coef, name in zip_vars:\n",
    " #     for cnt in range(4):\n",
    "  #      print(name, 'has weight of', coef[cnt])\n",
    "\n"
   ]
  },
  {
   "cell_type": "markdown",
   "metadata": {},
   "source": [
    "In the Scikit learn logistic regression, the default setting is one vs. all methdology for a multi-class dependent variable. In our case, we have 4 different classes 1,2,3,and 4 where 1 is extreme poverty and 4 non-vulnerable households. Some variables are dropped from the model because of redundancy and/or contribution to the total variation is small. After adjusting for the variation in each of the explanatory variables, importance can now be interpreted. \n",
    "When looking at the first model, extreme poverty vs. all, we can see that overcrowding square, qmobilephone, and mean education are high importance on the negative end. On the positive end, people with education less than 15 years, public electricity, and overcrowding are high importance.In the case of extreme poverty, overcrowding and education seem to be overarching theme of extreme poverty. Increase in mean education and number of mobile phones indicates a lower likelihood of not being in poverty, where we can say number of mobile phones is proxy for income of the household. Increase in the number of people with less than 15 years of education, use of public electricity, and overcrowding indicates a higher likelihood of being in extreme poverty, where public electricity could be a proxy for income of the household also.\n",
    "When looking at the second model, moderate poverty vs. all, we can see that on the negative end number of adults in the household, education of the male head of household squared, and number of post-graduates or higher are of high importance. This seems to be indicate that higher number of adults, education of the male of household squares, and post graduate degrees decreases the likelihood of being in moderate poverty. On the postive end, we can see people with education less than 15 years, education of the male head of household, and overcrowding square are of high importance. We see the same variable overcrowding and people with education less than 15 years, that increases in these variable will increase the likehood of being in moderate poverty. The square of overcrowding could indicate a quadratic relationship indicating a minimum of overcrowding can increase the liklihood of moderate poverty.\n",
    "When looking at the third model,vulnerable household vs. all, number of children between 0 to 19 squared, number of adults in the household, and post graduate degrees are of high importance on the negative end. The reoccurring theme of higher education lowers the likelihood of being in a vulnerable household is present. It seems to also shows that there could be a maximum of number of children which could decrease the likelihood of being in a vulnerable household. Also having more adults in the household decreases the likelihood of being in vulnerable household since this could be a proxy for more income. On the positive end, people with education less than 15 years, use of electricity from cooperative, and use of public electricity are of high importance. It seems to show that having less than 15 years of education significantly increases your likelihood of being in a vulnerable household. Also what kind of electricity you can afford, public and cooperative, is a proxy of income and so using these types of electricity means lower income which mean higher likelihood of being in a vulnerable household.\n",
    "When looking at the fourth model, non-vulnerable households vs all, we can see that people with education less than 15 years, use of electricity from cooperative, and use of public electricity are of high importance. This is the exact oppositive of the vulnerable household. If the household has any of these indicators then they have a lower likelihood of being a non-vulnerable household. On the positive end, number of adults in the household, number of postgraudate degrees, and number of individuals in the household indicate a higher likelihood of being in a non-vulnerable household. This is intuitive because the more adults could mean more income, having a postgraduate degree means a higher paying job, and more individuals in the household means the household is able to afford the high cost that comes with large households.\n",
    "Some variables are more important than others because of how prevalent the characteristic is for the given level. We can see that overcrowding is prevelant in the extreme and moderate poverty levels but not in the vulnerable and non-vulnerable levels. This indicates there are more people with type of characteristic at those poverty levels. However, there is an overarching theme that education is good indicator for poverty levels. In that each poverty level has some type of education variable. This seems to show that there is a certain threshold of education that can determine what is the likelihood of a given poverty level. "
   ]
  },
  {
   "cell_type": "markdown",
   "metadata": {},
   "source": [
    "# Interpret Support Vectors\n",
    "\n",
    "Look at the chosen support vectors for the classification task. Do these provide any insight into the data? Explain. If you used stochastic gradient descent (and therefore did not explicitly solve for support vectors), try subsampling your data to train the SVC model— then analyze the support vectors from the subsampled dataset.\n",
    "\n"
   ]
  },
  {
   "cell_type": "code",
   "execution_count": 30,
   "metadata": {},
   "outputs": [
    {
     "name": "stdout",
     "output_type": "stream",
     "text": [
      "[[  1.63863351e-05  -2.62645926e-05   1.06713251e-05   1.13686838e-13]\n",
      " [ -1.07474820e-04  -8.84919327e-05   4.24192167e-05  -6.30775168e-05]\n",
      " [ -8.42769150e-05  -1.08202021e-05   9.19651065e-05   6.82121026e-13]\n",
      " [  3.77613233e-05  -1.90598940e-04   4.70994883e-05  -3.18650997e-05]\n",
      " [ -1.87233854e-04   9.13600343e-06   1.50200191e-04   9.49610376e-06]\n",
      " [  1.78880564e-05   3.98616885e-05  -4.97371839e-05   3.97903932e-12]]\n"
     ]
    }
   ],
   "source": [
    "print(svm_clf.coef_)"
   ]
  }
 ],
 "metadata": {
  "kernelspec": {
   "display_name": "Python 3",
   "language": "python",
   "name": "python3"
  },
  "language_info": {
   "codemirror_mode": {
    "name": "ipython",
    "version": 3
   },
   "file_extension": ".py",
   "mimetype": "text/x-python",
   "name": "python",
   "nbconvert_exporter": "python",
   "pygments_lexer": "ipython3",
   "version": "3.6.4"
  }
 },
 "nbformat": 4,
 "nbformat_minor": 2
}
