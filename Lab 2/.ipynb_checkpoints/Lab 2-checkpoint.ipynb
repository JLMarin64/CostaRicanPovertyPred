{
 "cells": [
  {
   "cell_type": "markdown",
   "metadata": {},
   "source": [
    "# Lab 2\n",
    "\n",
    "### Authors: Jason Lin, Jason Lingle, Jonathan Marin"
   ]
  },
  {
   "cell_type": "markdown",
   "metadata": {},
   "source": [
    "# Data Preparation Part 1\n",
    "\n",
    "- [X] Define and prepare your class variables.\n",
    "- [X] Use proper variable representations (int, float, one-hot, etc.)\n",
    "- [ ] Use pre-processing methods (as needed) for dimensionality reduction, scaling, etc.\n",
    "- [ ] Remove variables that are not needed/useful for the analysis.\n",
    "\n",
    "\n"
   ]
  },
  {
   "cell_type": "code",
   "execution_count": 1,
   "metadata": {},
   "outputs": [],
   "source": [
    "\n",
    "#Load Packages\n",
    "import pandas as pd \n",
    "import numpy as np\n",
    "from pandasql import sqldf\n",
    "import matplotlib.pyplot as plt\n",
    "import seaborn as sns\n",
    "\n",
    "sns.set()\n",
    "\n",
    "\n",
    "train = pd.DataFrame(pd.read_csv(\"train.csv\"))\n",
    "test = pd.DataFrame(pd.read_csv(\"test.csv\"))\n"
   ]
  },
  {
   "cell_type": "markdown",
   "metadata": {},
   "source": [
    "## Defined Explanatory Variables\n",
    "\n",
    "\n",
    "Variable Name | Definition | Variable Type\n",
    "----------|------------|------------------|\n",
    "v2a1 |  Monthly rent payment | float\n",
    "hacdor |  =1 Overcrowding by bedrooms | bool\n",
    "rooms |   number of all rooms in the house | int\n",
    "hacapo |  =1 Overcrowding by rooms | bool\n",
    "v14a |  =1 has bathroom in the household | bool\n",
    "refrig |  =1 if the household has refrigerator | bool\n",
    "v18q |  owns a tablet | bool\n",
    "v18q1 |  number of tablets household owns | int\n",
    "r4h1 |  Males younger than 12 years of age | int\n",
    "r4h2 |  Males 12 years of age and older | int\n",
    "r4h3 |  Total males in the household | int\n",
    "r4m1 |  Females younger than 12 years of age | int\n",
    "r4m2 |  Females 12 years of age and older | int\n",
    "r4m3 |  Total females in the household | int\n",
    "r4t1 |  persons younger than 12 years of age | int\n",
    "r4t2 |  persons 12 years of age and older | int\n",
    "r4t3 |  Total persons in the household | int\n",
    "tamhog |  size of the household | int\n",
    "tamviv |  number of persons living in the household | int\n",
    "escolari |  years of schooling | int\n",
    "rez_esc |  Years behind in school | int\n",
    "hhsize |  household size | int\n",
    "paredblolad |  =1 if predominant material on the outside wall is block or brick | bool\n",
    "paredzocalo |  \"=1 if predominant material on the outside wall is socket (wood   zinc or absbesto\" | bool\n",
    "paredpreb |  =1 if predominant material on the outside wall is prefabricated or cement | bool\n",
    "pareddes |  =1 if predominant material on the outside wall is waste material | bool\n",
    "paredmad |  =1 if predominant material on the outside wall is wood | bool\n",
    "paredzinc |  =1 if predominant material on the outside wall is zink | bool\n",
    "paredfibras |  =1 if predominant material on the outside wall is natural fibers | bool\n",
    "paredother |  =1 if predominant material on the outside wall is other | bool\n",
    "pisomoscer |  \"=1 if predominant material on the floor is mosaic, ceramic, terrzo | bool\n",
    "pisocemento |  =1 if predominant material on the floor is cement | bool\n",
    "pisoother |  =1 if predominant material on the floor is other | bool\n",
    "pisonatur |  =1 if predominant material on the floor is  natural material | bool\n",
    "pisonotiene |  =1 if no floor at the household | bool\n",
    "pisomadera |  =1 if predominant material on the floor is wood | bool\n",
    "techozinc |  =1 if predominant material on the roof is metal foil or zink | bool\n",
    "techoentrepiso |  \"=1 if predominant material on the roof is fiber cement   mezzanine | bool\n",
    "techocane |  =1 if predominant material on the roof is natural fibers | bool\n",
    "techootro |  =1 if predominant material on the roof is other | bool\n",
    "cielorazo |  =1 if the house has ceiling | bool\n",
    "abastaguadentro |  =1 if water provision inside the dwelling | bool\n",
    "abastaguafuera |  =1 if water provision outside the dwelling | bool\n",
    "abastaguano |  =1 if no water provision | bool\n",
    "public |  \"=1 electricity from CNFL   ICE  ESPH/JASEC | bool\n",
    "planpri |  =1 electricity from private plant | bool\n",
    "noelec |  =1 no electricity in the dwelling | bool\n",
    "coopele |  =1 electricity from cooperative | bool\n",
    "sanitario1 |  =1 no toilet in the dwelling | bool\n",
    "sanitario2 |  =1 toilet connected to sewer or cesspool | bool\n",
    "sanitario3 |  =1 toilet connected to  septic tank | bool\n",
    "sanitario5 |  =1 toilet connected to black hole or letrine | bool\n",
    "sanitario6 |  =1 toilet connected to other system | bool\n",
    "energcocinar1 |  =1 no main source of energy used for cooking (no kitchen) | bool\n",
    "energcocinar2 |  =1 main source of energy used for cooking electricity | bool\n",
    "energcocinar3 |  =1 main source of energy used for cooking gas | bool\n",
    "energcocinar4 |  =1 main source of energy used for cooking wood charcoal | bool\n",
    "elimbasu1 |  =1 if rubbish disposal mainly by tanker truck | bool\n",
    "elimbasu2 |  =1 if rubbish disposal mainly by botan hollow or buried | bool\n",
    "elimbasu3 |  =1 if rubbish disposal mainly by burning | bool\n",
    "elimbasu4 |  =1 if rubbish disposal mainly by throwing in an unoccupied space | bool\n",
    "elimbasu5 |  \"=1 if rubbish disposal mainly by throwing in river | bool\n",
    "elimbasu6 |  =1 if rubbish disposal mainly other | bool\n",
    "epared1 |  =1 if walls are bad | bool\n",
    "epared2 |  =1 if walls are regular | bool\n",
    "epared3 |  =1 if walls are good | bool\n",
    "etecho1 |  =1 if roof are bad | bool\n",
    "etecho2 |  =1 if roof are regular | bool\n",
    "etecho3 |  =1 if roof are good | bool\n",
    "eviv1 |  =1 if floor are bad | bool\n",
    "eviv2 |  =1 if floor are regular | bool\n",
    "eviv3 |  =1 if floor are good | bool\n",
    "dis |  =1 if disable person | bool\n",
    "male |  =1 if male | bool\n",
    "female |  =1 if female | bool\n",
    "estadocivil1 |  =1 if less than 10 years old | bool\n",
    "estadocivil2 |  =1 if free or coupled uunion | bool\n",
    "estadocivil3 |  =1 if married | bool\n",
    "estadocivil4 |  =1 if divorced | bool\n",
    "estadocivil5 |  =1 if separated | bool\n",
    "estadocivil6 |  =1 if widow/er | bool\n",
    "estadocivil7 |  =1 if single | bool\n",
    "parentesco1 |  =1 if household head | bool\n",
    "parentesco2 |  =1 if spouse/partner | bool\n",
    "parentesco3 |  =1 if son/doughter | bool\n",
    "parentesco4 |  =1 if stepson/doughter | bool\n",
    "parentesco5 |  =1 if son/doughter in law | bool\n",
    "parentesco6 |  =1 if grandson/doughter | bool\n",
    "parentesco7 |  =1 if mother/father | bool\n",
    "parentesco8 |  =1 if father/mother in law | bool\n",
    "parentesco9 |  =1 if brother/sister | bool\n",
    "parentesco10 |  =1 if brother/sister in law | bool\n",
    "parentesco11 |  =1 if other family member | bool\n",
    "parentesco12 |  =1 if other non family member | bool\n",
    "idhogar |  Household level identifier | string\n",
    "hogar_nin |  Number of children 0 to 19 in household | int\n",
    "hogar_adul |  Number of adults in household | int\n",
    "hogar_mayor |  # of individuals 65+ in the household | int\n",
    "hogar_total |  # of total individuals in the household | int\n",
    "dependency |  Dependency rate,  calculated = (number of members of the household younger than 19 or older than 64)/(number of member of household between 19 and 64) | numeric\n",
    "edjefe |  years of education of male head of household,  based on the interaction of escolari (years of education)  head of household and gender,  yes=1 and no=0 | bool\n",
    "edjefa |  years of education of female head of household , based on the interaction of escolari (years of education) , head of household and gender,  yes=1 and no=0 | bool\n",
    "meaneduc | average years of education for adults (18+) | int\n",
    "instlevel1 |  =1 no level of education | bool\n",
    "instlevel2 |  =1 incomplete primary | bool\n",
    "instlevel3 |  =1 complete primary | bool\n",
    "instlevel4 |  =1 incomplete academic secondary level | bool\n",
    "instlevel5 |  =1 complete academic secondary level | bool\n",
    "instlevel6 |  =1 incomplete technical secondary level | bool\n",
    "instlevel7 |  =1 complete technical secondary level | bool\n",
    "instlevel8 |  =1 undergraduate and higher education | bool\n",
    "instlevel9 |  =1 postgraduate higher education | bool\n",
    "bedrooms |  number of bedrooms | int\n",
    "overcrowding |  # persons per room | int\n",
    "tipovivi1 |  =1 own and fully paid house | bool\n",
    "tipovivi2 |  \"=1 own paying in installments | bool\n",
    "tipovivi3 |  =1 rented | bool\n",
    "tipovivi4 |  =1 precarious | bool\n",
    "tipovivi5 |  \"=1 other(assigned   borrowed)\" | bool\n",
    "computer |  =1 if the household has notebook or desktop computer | bool\n",
    "television |  =1 if the household has TV | bool\n",
    "mobilephone |  =1 if mobile phone | bool\n",
    "qmobilephone |  # of mobile phones | int\n",
    "lugar1 |  =1 region Central | bool\n",
    "lugar2 |  =1 region Chorotega | bool\n",
    "lugar3 |  =1 region PacÃƒÂ­fico central | bool\n",
    "lugar4 |  =1 region Brunca | bool\n",
    "lugar5 |  =1 region Huetar AtlÃƒÂ¡ntica | bool\n",
    "lugar6 |  =1 region Huetar Norte | bool\n",
    "area1 |  =1 zona urbana | bool\n",
    "area2 |  =2 zona rural | bool\n",
    "age |  Age in years | int\n",
    "SQBescolari |  escolari squared | numeric\n",
    "SQBage |  age squared | numeric\n",
    "SQBhogar_total |  hogar_total squared | int\n",
    "SQBedjefe |  edjefe squared | int\n",
    "SQBhogar_nin |  hogar_nin squared | int\n",
    "SQBovercrowding |  overcrowding squared | float\n",
    "SQBdependency |  dependency squared | float\n",
    "SQBmeaned |  square of the mean years of education of adults (>=18) in the household | bool\n",
    "agesq |  Age squared | numeric\n"
   ]
  },
  {
   "cell_type": "markdown",
   "metadata": {},
   "source": [
    "## Prepocessing, Reduction, Scaling\n",
    "\n"
   ]
  },
  {
   "cell_type": "code",
   "execution_count": 2,
   "metadata": {},
   "outputs": [
    {
     "data": {
      "text/plain": [
       "v2a1       6860\n",
       "v18q1      7342\n",
       "rez_esc    7928\n",
       "dtype: int64"
      ]
     },
     "execution_count": 2,
     "metadata": {},
     "output_type": "execute_result"
    }
   ],
   "source": [
    "#Data Preparation Part 1 Code\n",
    "\n",
    "#Find the Nulls\n",
    "null_columns=train.columns[train.isnull().any()]\n",
    "\n",
    "train[null_columns].isnull().sum()\n",
    "\n",
    "\n"
   ]
  },
  {
   "cell_type": "code",
   "execution_count": 3,
   "metadata": {},
   "outputs": [
    {
     "data": {
      "text/plain": [
       "v2a1        949\n",
       "rez_esc    7928\n",
       "dtype: int64"
      ]
     },
     "execution_count": 3,
     "metadata": {},
     "output_type": "execute_result"
    }
   ],
   "source": [
    "train.loc[(train.tipovivi1 == 1),'v2a1'] = 0\n",
    "test.loc[(test.tipovivi1 == 1),'v2a1'] = 0\n",
    "\n",
    "\n",
    "train.loc[np.isnan(test[\"v18q1\"]), 'v18q1'] = 0\n",
    "test.loc[np.isnan(test[\"v18q1\"]), 'v18q1'] = 0\n",
    "\n",
    "train.loc[np.isnan(train[\"v18q1\"]), 'v18q1'] = 0\n",
    "test.loc[np.isnan(test[\"v18q1\"]), 'v18q1'] = 0\n",
    "\n",
    "\n",
    "train.loc[(train.dependency == \"yes\"),'dependency'] = 1\n",
    "train.loc[(train.dependency == \"no\"),'dependency'] = 0\n",
    "\n",
    "test.loc[(test.dependency == \"yes\"),'dependency'] = 1\n",
    "test.loc[(test.dependency == \"no\"),'dependency'] = 0\n",
    "\n",
    "\n",
    "train.loc[(train.edjefe == \"yes\"),'edjefe'] = 1\n",
    "train.loc[(train.edjefe == \"no\"),'edjefe'] = 0\n",
    "\n",
    "test.loc[(test.edjefe == \"yes\"),'edjefe'] = 1\n",
    "test.loc[(test.edjefe == \"no\"),'edjefe'] = 0\n",
    "\n",
    "\n",
    "\n",
    "train.loc[(train.edjefa == \"yes\"),'edjefa'] = 1\n",
    "train.loc[(train.edjefa == \"no\"),'edjefa'] = 0\n",
    "\n",
    "test.loc[(test.edjefa == \"yes\"),'edjefa'] = 1\n",
    "test.loc[(test.edjefa == \"no\"),'edjefa'] = 0\n",
    "\n",
    "\n",
    "null_columns=train.columns[train.isnull().any()]\n",
    "\n",
    "train[null_columns].isnull().sum()"
   ]
  },
  {
   "cell_type": "code",
   "execution_count": 20,
   "metadata": {},
   "outputs": [
    {
     "data": {
      "text/plain": [
       "Series([], dtype: float64)"
      ]
     },
     "execution_count": 20,
     "metadata": {},
     "output_type": "execute_result"
    }
   ],
   "source": [
    "#Denormalization\n",
    "\n",
    "#Create subset dataframes for head of househoold for tain and test\n",
    "train_head = train[['idhogar', 'parentesco1', 'Id', 'hhsize', 'v2a1', 'hacdor', 'rooms', 'hacapo', 'v14a', 'refrig', 'v18q1', 'r4h1', 'r4h2', 'r4h3', 'r4m1', 'r4m2', 'r4m3', 'r4t1', 'r4t2', 'r4t3', 'tamhog', 'tamviv', 'paredblolad', 'paredzocalo', 'paredpreb', 'pareddes', 'paredmad', 'paredzinc', 'paredfibras', 'paredother', 'pisomoscer', 'pisocemento', 'pisoother', 'pisonatur', 'pisonotiene', 'pisomadera', 'techozinc', 'techoentrepiso', 'techocane', 'techootro', 'cielorazo', 'abastaguadentro', 'abastaguafuera', 'abastaguano', 'public', 'planpri', 'noelec', 'coopele', 'sanitario1', 'sanitario2', 'sanitario3', 'sanitario5', 'sanitario6', 'energcocinar1', 'energcocinar2', 'energcocinar3', 'energcocinar4', 'elimbasu1', 'elimbasu2', 'elimbasu3', 'elimbasu4', 'elimbasu5', 'elimbasu6', 'epared1', 'epared2', 'epared3', 'etecho1', 'etecho2', 'etecho3', 'eviv1', 'eviv2', 'eviv3', 'hogar_nin', 'hogar_adul', 'hogar_mayor', 'hogar_total', 'dependency', 'edjefe', 'edjefa', 'meaneduc', 'bedrooms', 'overcrowding', 'tipovivi1', 'tipovivi2', 'tipovivi3', 'tipovivi4', 'tipovivi5', 'computer', 'television', 'qmobilephone', 'lugar1', 'lugar2', 'lugar3', 'lugar4', 'lugar5', 'lugar6', 'area1', 'area2', 'SQBescolari', 'SQBhogar_total', 'SQBedjefe', 'SQBhogar_nin', 'SQBovercrowding', 'SQBdependency', 'SQBmeaned','Target']]\n",
    "\n",
    "train_head = train_head[train_head['parentesco1'] == 1]\n",
    "\n",
    "test_head = test[['idhogar', 'parentesco1', 'Id', 'hhsize', 'v2a1', 'hacdor', 'rooms', 'hacapo', 'v14a', 'refrig', 'v18q1', 'r4h1', 'r4h2', 'r4h3', 'r4m1', 'r4m2', 'r4m3', 'r4t1', 'r4t2', 'r4t3', 'tamhog', 'tamviv', 'paredblolad', 'paredzocalo', 'paredpreb', 'pareddes', 'paredmad', 'paredzinc', 'paredfibras', 'paredother', 'pisomoscer', 'pisocemento', 'pisoother', 'pisonatur', 'pisonotiene', 'pisomadera', 'techozinc', 'techoentrepiso', 'techocane', 'techootro', 'cielorazo', 'abastaguadentro', 'abastaguafuera', 'abastaguano', 'public', 'planpri', 'noelec', 'coopele', 'sanitario1', 'sanitario2', 'sanitario3', 'sanitario5', 'sanitario6', 'energcocinar1', 'energcocinar2', 'energcocinar3', 'energcocinar4', 'elimbasu1', 'elimbasu2', 'elimbasu3', 'elimbasu4', 'elimbasu5', 'elimbasu6', 'epared1', 'epared2', 'epared3', 'etecho1', 'etecho2', 'etecho3', 'eviv1', 'eviv2', 'eviv3', 'hogar_nin', 'hogar_adul', 'hogar_mayor', 'hogar_total', 'dependency', 'edjefe', 'edjefa', 'meaneduc', 'bedrooms', 'overcrowding', 'tipovivi1', 'tipovivi2', 'tipovivi3', 'tipovivi4', 'tipovivi5', 'computer', 'television', 'qmobilephone', 'lugar1', 'lugar2', 'lugar3', 'lugar4', 'lugar5', 'lugar6', 'area1', 'area2', 'SQBescolari', 'SQBhogar_total', 'SQBedjefe', 'SQBhogar_nin', 'SQBovercrowding', 'SQBdependency', 'SQBmeaned']]\n",
    "\n",
    "test_head = test_head[test_head['parentesco1'] == 1]\n",
    "\n",
    "#Start the member level denormalization for train and test\n",
    "train_member_agg = pd.DataFrame(sqldf(\"select  \"\n",
    "\"idhogar, \"\n",
    "\"sum(cast(v18q as int)) 'JM_Sum_of_Tablets', \"\n",
    "\"sum(cast(escolari as int)) 'Total Sum Years of Schooling', \"\n",
    "\"sum(case when escolari < 5 then 1 else 0 end) as 'JM_People_Educ_LT5', \"\n",
    "\"sum(case when escolari < 10 then 1 else 0 end) as 'JM_People_Educ_LT10', \"\n",
    "\"sum(case when escolari < 15 then 1 else 0 end) as 'JM_People_Educ_LT15', \"\n",
    "\"sum(case when escolari < 20 then 1 else 0 end) as 'JM_People_Educ_LT20', \"\n",
    "\"sum(case when escolari < 25 then 1 else 0 end) as 'JM_People_Educ_LT25', \"\n",
    "\"sum(case when rez_esc = 1 then 1 else 0 end) as 'JM_1YrBehindSchool', \"\n",
    "\"sum(case when rez_esc = 2 then 1 else 0 end) as 'JM_2YrBehindSchool', \"\n",
    "\"sum(case when rez_esc = 3 then 1 else 0 end) as 'JM_3YrBehindSchool', \"\n",
    "\"sum(case when rez_esc = 4 then 1 else 0 end) as 'JM_4YrBehindSchool', \"\n",
    "\"sum(case when rez_esc = 5 then 1 else 0 end) as 'JM_5YrBehindSchool', \"\n",
    "\"sum(cast(dis as int)) as 'JM_Sum_of_Disabled', \"\n",
    "\"sum(cast(male as int)) as 'JM_Sum_Of_Males', \"\n",
    "\"sum(cast(female as int)) as 'JM_Sum_Of_Females', \"\n",
    "\"sum(cast(estadocivil1 as int)) as  'JM_estadocivil1', \"\n",
    "\"sum(cast(estadocivil2 as int)) as  'JM_estadocivil2', \"\n",
    "\"sum(cast(estadocivil3 as int)) as  'JM_estadocivil3', \"\n",
    "\"sum(cast(estadocivil4 as int)) as  'JM_estadocivil4', \"\n",
    "\"sum(cast(estadocivil5 as int)) as  'JM_estadocivil5', \"\n",
    "\"sum(cast(estadocivil6 as int)) as  'JM_estadocivil6', \"\n",
    "\"sum(cast(estadocivil7 as int)) as  'JM_estadocivil7', \"\n",
    "\"sum(cast(parentesco1 as int)) as  'JM_parentesco1', \"\n",
    "\"sum(cast(parentesco2 as int)) as  'JM_parentesco2', \"\n",
    "\"sum(cast(parentesco3 as int)) as  'JM_parentesco3', \"\n",
    "\"sum(cast(parentesco4 as int)) as  'JM_parentesco4', \"\n",
    "\"sum(cast(parentesco5 as int)) as  'JM_parentesco5', \"\n",
    "\"sum(cast(parentesco6 as int)) as  'JM_parentesco6', \"\n",
    "\"sum(cast(parentesco7 as int)) as  'JM_parentesco7', \"\n",
    "\"sum(cast(parentesco8 as int)) as  'JM_parentesco8', \"\n",
    "\"sum(cast(parentesco9 as int)) as  'JM_parentesco9', \"\n",
    "\"sum(cast(parentesco10 as int)) as  'JM_parentesco10', \"\n",
    "\"sum(cast(parentesco11 as int)) as  'JM_parentesco11', \"\n",
    "\"sum(cast(parentesco12 as int)) as  'JM_parentesco12', \"\n",
    "\"sum(cast(instlevel1 as int)) as  'JM_instlevel1', \"\n",
    "\"sum(cast(instlevel2 as int)) as  'JM_instlevel2', \"\n",
    "\"sum(cast(instlevel3 as int)) as  'JM_instlevel3', \"\n",
    "\"sum(cast(instlevel4 as int)) as  'JM_instlevel4', \"\n",
    "\"sum(cast(instlevel5 as int)) as  'JM_instlevel5', \"\n",
    "\"sum(cast(instlevel6 as int)) as  'JM_instlevel6', \"\n",
    "\"sum(cast(instlevel7 as int)) as  'JM_instlevel7', \"\n",
    "\"sum(cast(instlevel8 as int)) as  'JM_instlevel8', \"\n",
    "\"sum(cast(instlevel9 as int)) as  'JM_instlevel9', \"\n",
    "\"sum(cast(mobilephone as int)) as  'JM_mobilephone'\" \n",
    "\"from train \"\n",
    "\"group by idhogar \"\n",
    "))\n",
    "\n",
    "\n",
    "\n",
    "test_member_agg = pd.DataFrame(sqldf(\"select  \"\n",
    "\"idhogar, \"\n",
    "\"sum(cast(v18q as int)) 'JM_Sum_of_Tablets', \"\n",
    "\"sum(cast(escolari as int)) 'Total Sum Years of Schooling', \"\n",
    "\"sum(case when escolari < 5 then 1 else 0 end) as 'JM_People_Educ_LT5', \"\n",
    "\"sum(case when escolari < 10 then 1 else 0 end) as 'JM_People_Educ_LT10', \"\n",
    "\"sum(case when escolari < 15 then 1 else 0 end) as 'JM_People_Educ_LT15', \"\n",
    "\"sum(case when escolari < 20 then 1 else 0 end) as 'JM_People_Educ_LT20', \"\n",
    "\"sum(case when escolari < 25 then 1 else 0 end) as 'JM_People_Educ_LT25', \"\n",
    "\"sum(case when rez_esc = 1 then 1 else 0 end) as 'JM_1YrBehindSchool', \"\n",
    "\"sum(case when rez_esc = 2 then 1 else 0 end) as 'JM_2YrBehindSchool', \"\n",
    "\"sum(case when rez_esc = 3 then 1 else 0 end) as 'JM_3YrBehindSchool', \"\n",
    "\"sum(case when rez_esc = 4 then 1 else 0 end) as 'JM_4YrBehindSchool', \"\n",
    "\"sum(case when rez_esc = 5 then 1 else 0 end) as 'JM_5YrBehindSchool', \"\n",
    "\"sum(cast(dis as int)) as 'JM_Sum_of_Disabled', \"\n",
    "\"sum(cast(male as int)) as 'JM_Sum_Of_Males', \"\n",
    "\"sum(cast(female as int)) as 'JM_Sum_Of_Females', \"\n",
    "\"sum(cast(estadocivil1 as int)) as  'JM_estadocivil1', \"\n",
    "\"sum(cast(estadocivil2 as int)) as  'JM_estadocivil2', \"\n",
    "\"sum(cast(estadocivil3 as int)) as  'JM_estadocivil3', \"\n",
    "\"sum(cast(estadocivil4 as int)) as  'JM_estadocivil4', \"\n",
    "\"sum(cast(estadocivil5 as int)) as  'JM_estadocivil5', \"\n",
    "\"sum(cast(estadocivil6 as int)) as  'JM_estadocivil6', \"\n",
    "\"sum(cast(estadocivil7 as int)) as  'JM_estadocivil7', \"\n",
    "\"sum(cast(parentesco1 as int)) as  'JM_parentesco1', \"\n",
    "\"sum(cast(parentesco2 as int)) as  'JM_parentesco2', \"\n",
    "\"sum(cast(parentesco3 as int)) as  'JM_parentesco3', \"\n",
    "\"sum(cast(parentesco4 as int)) as  'JM_parentesco4', \"\n",
    "\"sum(cast(parentesco5 as int)) as  'JM_parentesco5', \"\n",
    "\"sum(cast(parentesco6 as int)) as  'JM_parentesco6', \"\n",
    "\"sum(cast(parentesco7 as int)) as  'JM_parentesco7', \"\n",
    "\"sum(cast(parentesco8 as int)) as  'JM_parentesco8', \"\n",
    "\"sum(cast(parentesco9 as int)) as  'JM_parentesco9', \"\n",
    "\"sum(cast(parentesco10 as int)) as  'JM_parentesco10', \"\n",
    "\"sum(cast(parentesco11 as int)) as  'JM_parentesco11', \"\n",
    "\"sum(cast(parentesco12 as int)) as  'JM_parentesco12', \"\n",
    "\"sum(cast(instlevel1 as int)) as  'JM_instlevel1', \"\n",
    "\"sum(cast(instlevel2 as int)) as  'JM_instlevel2', \"\n",
    "\"sum(cast(instlevel3 as int)) as  'JM_instlevel3', \"\n",
    "\"sum(cast(instlevel4 as int)) as  'JM_instlevel4', \"\n",
    "\"sum(cast(instlevel5 as int)) as  'JM_instlevel5', \"\n",
    "\"sum(cast(instlevel6 as int)) as  'JM_instlevel6', \"\n",
    "\"sum(cast(instlevel7 as int)) as  'JM_instlevel7', \"\n",
    "\"sum(cast(instlevel8 as int)) as  'JM_instlevel8', \"\n",
    "\"sum(cast(instlevel9 as int)) as  'JM_instlevel9', \"\n",
    "\"sum(cast(mobilephone as int)) as  'JM_mobilephone'\" \n",
    "\"from test \"\n",
    "\"group by idhogar \"\n",
    "))\n",
    "\n",
    "\n",
    "\n",
    "#Join the household and member aggregation together\n",
    "train_model_set = pd.DataFrame(pd.merge(train_head, train_member_agg, on = 'idhogar', how = 'left'))\n",
    "test_model_set = pd.DataFrame(pd.merge(test_head, test_member_agg, on = 'idhogar', how = 'left'))\n",
    "\n",
    "\n",
    "\n",
    "\n",
    "# For the rest of the v2a1 that are null, we will use the mean\n",
    "\n",
    "train_model_set['v2a1'].fillna((train_model_set['v2a1'].mean()), inplace=True)\n",
    "\n",
    "test_model_set['v2a1'].fillna((train_model_set['v2a1'].mean()), inplace=True)\n",
    "\n",
    "#Export final model csvs for review\n",
    "train_model_set.to_csv(\"train_model_set.csv\")\n",
    "test_model_set.to_csv(\"test_model_set.csv\")\n",
    "\n",
    "#Make sure all Nulls are accounted for\n",
    "null_columns=train_model_set.columns[train_model_set.isnull().any()]\n",
    "\n",
    "train_model_set[null_columns].isnull().sum()\n",
    "\n"
   ]
  },
  {
   "cell_type": "markdown",
   "metadata": {},
   "source": [
    "# Defined Class Variable"
   ]
  },
  {
   "cell_type": "code",
   "execution_count": 22,
   "metadata": {},
   "outputs": [
    {
     "name": "stdout",
     "output_type": "stream",
     "text": [
      "4    1954\n",
      "2     442\n",
      "3     355\n",
      "1     222\n",
      "Name: Target, dtype: int64\n",
      "1    1954\n",
      "0    1019\n",
      "Name: Target_new, dtype: int64\n"
     ]
    }
   ],
   "source": [
    "#Collapsing the Class Variable\n",
    "train_model_set['Target_new']=((train_model_set.Target > 3).astype(int))\n",
    "target_cnt = train_model_set['Target'].value_counts()\n",
    "target_newcnt = train_model_set['Target_new'].value_counts()\n",
    "\n",
    "train_model_set.to_csv(\"train_model_set_wTargetnew.csv\")\n",
    "\n",
    "#Check\n",
    "train_model_set[['Target','Target_new']].describe()\n",
    "print(target_cnt)\n",
    "print(target_newcnt)"
   ]
  },
  {
   "cell_type": "markdown",
   "metadata": {},
   "source": [
    "From previous exploratory analysis in the confusion matrix, the models have trouble predicting the poverty levels 1 (extreme), 2 (moderate), and 3 (vulnerable). However, there is a high amount of predictability in poverty level 4 (non-vulnerable). This could indicate that there is some skewness in the data making it difficult to get higher accuracy in the other levels. Also when looking at one vs. one comparison in SVM, there are some erroneous relationships especially when comparing poverty level 3 vs. 4 and povery level 1 vs. 2. This could indicate that the these two groups maybe similar in nature or there is an oversampling of the higher poverty levels making it difficult to differentiate at that level of granularity. When looking at the frequency we can clearly see that poverty level 4 accounts for majority of the data set. Therefore, it maybe needed to collapse certain levels to help increase the predictability of other levels. Therefore, collapsing poverty level 1, 2, and 3 could help balance the dataset and increase the size of the lower levels.  "
   ]
  },
  {
   "cell_type": "markdown",
   "metadata": {},
   "source": [
    "# Data Preparation Part 2 \n",
    "- [ ] Describe the final dataset that is used for classification/regression (include a description of any newly formed variables you created)."
   ]
  },
  {
   "cell_type": "markdown",
   "metadata": {},
   "source": [
    "# Features Used\n",
    "\n",
    "\n",
    "\n",
    "\n",
    "\n",
    "\n",
    "\n",
    "\n",
    "\n",
    "\n",
    "\n",
    "# New Features \n",
    "\n",
    "New Field Name|Definition|Variable Type\n",
    "--------------------------------------------------------|----------|--------------|\n",
    "JM_1YrBehindSchool|Count of individuals when rez_esc Count of  1|int\n",
    "JM_2YrBehindSchool|Count of individuals when rez_esc Count of  2|int\n",
    "JM_3YrBehindSchool|Count of individuals when rez_esc Count of  3|int\n",
    "JM_4YrBehindSchool|Count of individuals when rez_esc Count of  4|int\n",
    "JM_5YrBehindSchool|Count of individuals when rez_esc Count of  5|int\n",
    "JM_estadocivil1| Count of children 1 if less than 10 years old|int\n",
    "JM_estadocivil2| Count of people if free or coupled uunion|int\n",
    "JM_estadocivil3| Count of people if married|int\n",
    "JM_estadocivil4| Count of people if divorced|int\n",
    "JM_estadocivil5| Count of people if separated|int\n",
    "JM_estadocivil6| Count of people if widow/er|int\n",
    "JM_estadocivil7| Count of people if single|int\n",
    "JM_instlevel1| Count of people no level of education|int\n",
    "JM_instlevel2| Count of people incomplete primary|int\n",
    "JM_instlevel3| Count of people complete primary|int\n",
    "JM_instlevel4| Count of people incomplete academic secondary level|int\n",
    "JM_instlevel5| Count of people complete academic secondary level|int\n",
    "JM_instlevel6| Count of people incomplete technical secondary level|int\n",
    "JM_instlevel7| Count of people complete technical secondary level|int\n",
    "JM_instlevel8| Count of people undergraduate and higher education|int\n",
    "JM_instlevel9| Count of people postgraduate higher education|int\n",
    "JM_mobilephone| Count of people if mobile phone|int\n",
    "JM_parentesco1| Count of people if household head|int\n",
    "JM_parentesco10| Count of people if brother/sister in law|int\n",
    "JM_parentesco11| Count of people if other family member|int\n",
    "JM_parentesco12| Count of people if other non family member|int\n",
    "JM_parentesco2| Count of people if spouse/partner|int\n",
    "JM_parentesco3| Count of people if son/doughter|int\n",
    "JM_parentesco4| Count of people if stepson/doughter|int\n",
    "JM_parentesco5| Count of people if son/doughter in law|int\n",
    "JM_parentesco6| Count of people if grandson/doughter|int\n",
    "JM_parentesco7| Count of people if mother/father|int\n",
    "JM_parentesco8| Count of people if father/mother in law|int\n",
    "JM_parentesco9| Count of people if brother/sister|int\n",
    "JM_People_Educ_LT10|Count of individuals when schooling (escolari) < 10|int\n",
    "JM_People_Educ_LT15|Count of individuals when schooling (escolari) < 15|int\n",
    "JM_People_Educ_LT20|Count of individuals when schooling (escolari) < 20|int\n",
    "JM_People_Educ_LT25|Count of individuals when schooling (escolari) < 25|int\n",
    "JM_People_Educ_LT5|Count of individuals when schooling (escolari) < 5|int\n",
    "JM_Sum_of_Disabled|Sum of dis for total number of disabled individuals per household|int\n",
    "JM_Sum_Of_Females|Sum of male for total number of females per household|int\n",
    "JM_Sum_Of_Males|Sum of male for total number of males per household|int\n",
    "JM_Sum_of_Tablets|Sum of v18q for total tablets per household|int\n",
    "Total Sum Years of Schooling|Sum of escolari for total years of schooling per household|int\n"
   ]
  },
  {
   "cell_type": "markdown",
   "metadata": {},
   "source": [
    "# Modeling and Evaluation 1\n",
    "\n",
    "- [ ] Choose and explain your evaluation metrics that you will use (i.e., accuracy,precision, recall, F-measure, or any metric we have discussed).\n",
    "\n",
    "- [ ] Why are the measure(s) appropriate for analyzing the results of your modeling? Give a detailed explanation backing up any assertions.\n",
    "\n",
    "\n",
    " "
   ]
  },
  {
   "cell_type": "code",
   "execution_count": null,
   "metadata": {},
   "outputs": [],
   "source": [
    "#Modeling and Evalutaiton 1 Code"
   ]
  },
  {
   "cell_type": "markdown",
   "metadata": {},
   "source": [
    "# Modeling and Evaluation 2\n",
    "\n",
    "- [ ] Choose the method you will use for dividing your data into training and testing splits (i.e., are you using Stratified 10-fold cross validation? Why?). Explain why your chosen method is appropriate or use more than one method as appropriate. For example, if you are using time series data then you should be using continuous training and testing sets across time.\n",
    "\n",
    "\n"
   ]
  },
  {
   "cell_type": "code",
   "execution_count": null,
   "metadata": {},
   "outputs": [],
   "source": [
    "#Modeling and Evaluation 2 Code"
   ]
  },
  {
   "cell_type": "markdown",
   "metadata": {},
   "source": [
    "# Modeling and Evaluation 3\n",
    "\n",
    "- [ ] Create three different classification/regression models for each task (e.g., random forest, KNN, and SVM for task one and the same or different algorithms for task two). Two modeling techniques must be new (but the third could be SVM or logistic regression). Adjust parameters as appropriate to increase generalization performance using your chosen metric. \n",
    "- [ ] You must investigate different parameters of the algorithms!"
   ]
  },
  {
   "cell_type": "code",
   "execution_count": null,
   "metadata": {},
   "outputs": [],
   "source": [
    "#Modeling and Evaluation 3 Code\n"
   ]
  },
  {
   "cell_type": "markdown",
   "metadata": {},
   "source": [
    "# Modeling and Evaluation 4\n",
    "\n",
    "- [ ] Analyze the results using your chosen method of evaluation. Use visualizations of the results to bolster the analysis. - \n",
    "\n",
    "- [ ] Explain any visuals and analyze why they are interesting to someone that might use this model.\n",
    "\n",
    "\n",
    "\n"
   ]
  },
  {
   "cell_type": "code",
   "execution_count": null,
   "metadata": {},
   "outputs": [],
   "source": [
    "#Modeling and Evaluation 4 Code"
   ]
  },
  {
   "cell_type": "markdown",
   "metadata": {},
   "source": [
    "# Modeling and Evaluation 5\n",
    "\n",
    "- [ ] Discuss the advantages of each model for each classification task, if any. If there are not advantages, explain why. Is any model better than another? Is the difference significant with 95% confidence? \n",
    "\n",
    "- [ ] Use proper statistical comparison methods. You must use statistical comparison techniques—be sure they are appropriate for your chosen method of validation as discussed in unit 7 of the course. \n",
    "\n"
   ]
  },
  {
   "cell_type": "code",
   "execution_count": null,
   "metadata": {},
   "outputs": [],
   "source": [
    "#Modeling and Evaludation 6 Code\n",
    "\n"
   ]
  },
  {
   "cell_type": "markdown",
   "metadata": {},
   "source": [
    "# Modeling and Evaluation 6\n",
    "\n",
    "- [ ] Which attributes from your analysis are most important? Use proper methods discussed in class to evaluate the importance of different attributes. \n",
    "\n",
    "- [ ] Discuss the results and hypothesize about why certain attributes are more important than others for a given classification task."
   ]
  },
  {
   "cell_type": "code",
   "execution_count": null,
   "metadata": {},
   "outputs": [],
   "source": [
    "#Modeling and Evaluation 6 Code"
   ]
  },
  {
   "cell_type": "markdown",
   "metadata": {},
   "source": [
    "# Deployment\n",
    "\n",
    "- [ ] How useful is your model for interested parties (i.e., the companies or organizations that might want to use it for prediction)? \n",
    "- [ ] How would you measure the model's value if it was used by these parties? \n",
    "- [ ] How would your deploy your model for interested parties? \n",
    "- [ ] What other data should be collected? \n",
    "- [ ] How often would the model need to be updated, etc.? \n"
   ]
  },
  {
   "cell_type": "code",
   "execution_count": null,
   "metadata": {},
   "outputs": [],
   "source": [
    "#Deployment Code (if needed)"
   ]
  },
  {
   "cell_type": "markdown",
   "metadata": {},
   "source": [
    "# Exceptional Work\n",
    "\n",
    "- [ ] You have free reign to provide additional analyses. One idea: grid search parameters in a parallelized fashion and visualize the performances across attributes. Which parameters are most significant for making a good model for each classification algorithm?\n"
   ]
  },
  {
   "cell_type": "code",
   "execution_count": null,
   "metadata": {},
   "outputs": [],
   "source": [
    "#Exceptional Work Code"
   ]
  }
 ],
 "metadata": {
  "kernelspec": {
   "display_name": "Python 3",
   "language": "python",
   "name": "python3"
  },
  "language_info": {
   "codemirror_mode": {
    "name": "ipython",
    "version": 3
   },
   "file_extension": ".py",
   "mimetype": "text/x-python",
   "name": "python",
   "nbconvert_exporter": "python",
   "pygments_lexer": "ipython3",
   "version": "3.6.5"
  }
 },
 "nbformat": 4,
 "nbformat_minor": 2
}
