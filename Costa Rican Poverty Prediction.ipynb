{
 "cells": [
  {
   "cell_type": "markdown",
   "metadata": {},
   "source": [
    "\n",
    "\n"
   ]
  },
  {
   "cell_type": "markdown",
   "metadata": {},
   "source": [
    "<center> <h1> Costa Rican Poverty Predction </h1> </center>\n",
    "<center> <h2> by: Jason Lin, Jason Lingle, and Jonathan Marin </h2> </center>\n",
    "<center> <h2> 9/16/2018 </h2> </center>\n"
   ]
  },
  {
   "cell_type": "markdown",
   "metadata": {},
   "source": [
    "\n",
    "\n",
    "\n",
    "# Business Understanding\n",
    "\n",
    "Describe the purpose of the data set you select (i.e., why was this data collected in the first place?) Describe how you would define and measure the outcomes from the dataset.  That is, why is this data important and how do you know if you have mined useful knowledge from the dataset?  How would you measure the effectiveness of a good prediction algorithm?  Be specific. "
   ]
  },
  {
   "cell_type": "markdown",
   "metadata": {},
   "source": [
    "# Data Meaning Type\n",
    "\n",
    "Describe the meaning and type of data (scale, values, etc.) for each attribute in the data file. \n"
   ]
  },
  {
   "cell_type": "markdown",
   "metadata": {},
   "source": [
    "# Data Quality\n",
    "\n",
    "Verify data quality; Explain any missing values, duplicate data, and outliers.  Are those mistakes? How do you deal with these problems? Give justificatinos for your methods. \n",
    "\n"
   ]
  },
  {
   "cell_type": "markdown",
   "metadata": {},
   "source": [
    "# Simple Statistics \n",
    "Visualize appropriate statistics (e.g. range, mode, mean, median, variance, counts) for a subset of attributes. Describe anything meaningful you found from this or if you found something potentially niteresting.  Note: You can also use data from other sources for comparison. Explain why the statistics run are meaningful. "
   ]
  },
  {
   "cell_type": "markdown",
   "metadata": {},
   "source": [
    "# Visualize Attributes\n",
    "Visualize the most interesting attributes (at least 5 attributes, your opinion on what is the interesting). Important: Interpret the implicatinos for each visualizatino. Explain for each attribute why the chosen visualization is appropriate. \n",
    "\n"
   ]
  },
  {
   "cell_type": "markdown",
   "metadata": {},
   "source": [
    "# Explore Joint Attributes\n",
    "\n",
    "Identify and explain interesting relationships between features and the class you are trying to predict (i.e., relationships with variables and the target classsification). "
   ]
  },
  {
   "cell_type": "markdown",
   "metadata": {},
   "source": [
    "# New Features \n",
    "\n",
    "Are there other features that could be added to the data or created from existing features? Which ones? "
   ]
  },
  {
   "cell_type": "markdown",
   "metadata": {},
   "source": [
    "# Exceptional Work \n",
    "\n",
    "You have free reign to provide additional analysis. One idea: implement dimensiality reduction, then visualize and interpret the results. \n"
   ]
  },
  {
   "cell_type": "code",
   "execution_count": null,
   "metadata": {},
   "outputs": [],
   "source": []
  }
 ],
 "metadata": {
  "kernelspec": {
   "display_name": "Python 3",
   "language": "python",
   "name": "python3"
  },
  "language_info": {
   "codemirror_mode": {
    "name": "ipython",
    "version": 3
   },
   "file_extension": ".py",
   "mimetype": "text/x-python",
   "name": "python",
   "nbconvert_exporter": "python",
   "pygments_lexer": "ipython3",
   "version": "3.6.4"
  }
 },
 "nbformat": 4,
 "nbformat_minor": 2
}
